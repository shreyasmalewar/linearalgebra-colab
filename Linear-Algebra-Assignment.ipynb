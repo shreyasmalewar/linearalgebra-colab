{
  "nbformat": 4,
  "nbformat_minor": 0,
  "metadata": {
    "colab": {
      "name": "Shreyas Malewar P9",
      "provenance": [],
      "include_colab_link": true
    },
    "kernelspec": {
      "name": "python3",
      "display_name": "Python 3"
    }
  },
  "cells": [
    {
      "cell_type": "markdown",
      "metadata": {
        "id": "view-in-github",
        "colab_type": "text"
      },
      "source": [
        "<a href=\"https://colab.research.google.com/github/shreyasmalewar/linearalgebra-colab/blob/master/Linear-Algebra-Assignment.ipynb\" target=\"_parent\"><img src=\"https://colab.research.google.com/assets/colab-badge.svg\" alt=\"Open In Colab\"/></a>"
      ]
    },
    {
      "cell_type": "markdown",
      "metadata": {
        "id": "9kTomRuQsScU",
        "colab_type": "text"
      },
      "source": [
        "#Practical 9:\n",
        "##Assignment"
      ]
    },
    {
      "cell_type": "markdown",
      "metadata": {
        "id": "XDM29b46sl3o",
        "colab_type": "text"
      },
      "source": [
        "Q1.Write a NumPy program to compute the multiplication of two given matrixes. \n",
        "A=[[1 2 3],\n",
        "[4 5 6],\n",
        "[7 8 9]]\n",
        "B=[[1 1 1],\n",
        "[2 2 2],\n",
        "[3, 3, 3]]\n"
      ]
    },
    {
      "cell_type": "code",
      "metadata": {
        "id": "DcrXen5FsdH4",
        "colab_type": "code",
        "colab": {}
      },
      "source": [
        "from numpy import array\n",
        "A = array([[1, 2, 3],\n",
        "      [4, 5, 6],\n",
        "      [7, 8, 9]])\n",
        "B = array([[1, 1, 1],\n",
        "      [2, 2, 2],\n",
        "      [3, 3, 3]])\n",
        "print(A)\n",
        "print(B)\n",
        "C = A * B\n",
        "print(C)"
      ],
      "execution_count": 0,
      "outputs": []
    },
    {
      "cell_type": "markdown",
      "metadata": {
        "id": "q36E5CYguI1G",
        "colab_type": "text"
      },
      "source": [
        "Q2. Write a NumPy program to compute the outer product of two given vectors. \n",
        "v1=[[1, 0], [0, 1]]\n",
        "v2=[[1, 2], [3, 4]]"
      ]
    },
    {
      "cell_type": "code",
      "metadata": {
        "id": "uHDVE_JJuN2h",
        "colab_type": "code",
        "colab": {}
      },
      "source": [
        "import numpy as np\n",
        "p = [[1, 0], [0, 1]]\n",
        "q = [[1, 2], [3, 4]]\n",
        "print(p)\n",
        "print(q)\n",
        "result = np.outer(p, q)\n",
        "print(\"Outer product is:\")\n",
        "print(result)"
      ],
      "execution_count": 0,
      "outputs": []
    },
    {
      "cell_type": "markdown",
      "metadata": {
        "id": "Epo_QLeGu5TJ",
        "colab_type": "text"
      },
      "source": [
        "Q3.Create the following rank 2 array with shape (3, 4) \n",
        "[[ 1 2 3 4] \n",
        "[ 5 6 7 8] \n",
        "[ 9 10 11 12]]\n",
        "Demonstrate two ways of accessing the data in the middle row of the array.\n",
        "1. Indexing with slices \n",
        "2. Only slices\n"
      ]
    },
    {
      "cell_type": "code",
      "metadata": {
        "id": "gL1pfVvHttTa",
        "colab_type": "code",
        "colab": {}
      },
      "source": [
        "import numpy as np\n",
        "a = np.array([[1, 2, 3, 4], [5, 6, 7, 8], [9, 10, 11, 12]])\n",
        "b = a[:2, 1:3]\n",
        "print(a[0, 1])\n",
        "b[0, 0]=77\n",
        "print(a[0, 1])"
      ],
      "execution_count": 0,
      "outputs": []
    },
    {
      "cell_type": "markdown",
      "metadata": {
        "id": "3kPuc1n9vmS2",
        "colab_type": "text"
      },
      "source": [
        "Q4. Write a NumPy program to compute the determinant of a given square array. \n",
        "[[1 0 3 5]\n",
        "[3 6 7 2]\n",
        "[3 2 4 1]\n",
        "[1 2 0 1]]\n"
      ]
    },
    {
      "cell_type": "code",
      "metadata": {
        "id": "4UE5ygiZvkRs",
        "colab_type": "code",
        "colab": {}
      },
      "source": [
        "import numpy as np\n",
        "a = np.array([[1, 0, 3, 5], [3, 6, 7, 2], [3, 2, 4, 1], [1, 2, 0, 1]])\n",
        "print(\"Original Array:\")\n",
        "print(a)\n",
        "result = np.linalg.det(a)\n",
        "print(\"Det of said array:\")\n",
        "print(result)"
      ],
      "execution_count": 0,
      "outputs": []
    },
    {
      "cell_type": "markdown",
      "metadata": {
        "id": "OqYqC0DSwYin",
        "colab_type": "text"
      },
      "source": [
        "Q5. Write a NumPy program to evaluate matrix 3rd power for a below given matrix.\n",
        "A=[[1 2 3], \n",
        "[4 5 6], \n",
        "[7 8 9]]"
      ]
    },
    {
      "cell_type": "code",
      "metadata": {
        "id": "KnAeivCUwgdx",
        "colab_type": "code",
        "colab": {}
      },
      "source": [
        "import numpy as np\n",
        "arr1 = [1, 2, 3]\n",
        "arr2 = [4, 5, 6]\n",
        "print(\"arr1:\", arr1)\n",
        "print(\"arr2:\", arr2)\n",
        "out = np.power(arr1, arr2)\n",
        "print(\"O/P Array\", out)"
      ],
      "execution_count": 0,
      "outputs": []
    },
    {
      "cell_type": "markdown",
      "metadata": {
        "id": "xoV0HJnQxJT1",
        "colab_type": "text"
      },
      "source": [
        "Q6. Write a NumPy program to evaluate Inverse for a below given matrix.\n",
        "A=[[1 2 3],\n",
        "[4 5 6],\n",
        "[7 8 9]]\n"
      ]
    },
    {
      "cell_type": "code",
      "metadata": {
        "id": "iLFK9386xGvm",
        "colab_type": "code",
        "colab": {}
      },
      "source": [
        "import numpy as np\n",
        "m = np.array([[1,2],[3,4]])\n",
        "print(\"Original:\")\n",
        "print(m)\n",
        "result = np.linalg.inv(m)\n",
        "print(\"inv:\",result)"
      ],
      "execution_count": 0,
      "outputs": []
    },
    {
      "cell_type": "markdown",
      "metadata": {
        "id": "dHdtdxorxr11",
        "colab_type": "text"
      },
      "source": [
        "Q7. Write a NumPy program to compute the eigenvalues and right eigenvectors of a given square array.\n",
        "[[ 1 2 3 4]\n",
        "[ 5 6 7 8]\n",
        "[ 9 10 11 12]\n",
        "[1 2 3 4]]"
      ]
    },
    {
      "cell_type": "code",
      "metadata": {
        "id": "DPer23GTyFfS",
        "colab_type": "code",
        "colab": {}
      },
      "source": [
        "import numpy as np\n",
        "m = np.mat(\"1 2 3 4; 5 6 7 8; 9 10 11 12; 1 2 3 4\")\n",
        "print(\"Original:\")\n",
        "print(\"a/n\",m)\n",
        "w,v=np.linalg.eig(m)\n",
        "print(\"Eigen values\",w)\n",
        "print(\"Eigen values\",v)"
      ],
      "execution_count": 0,
      "outputs": []
    },
    {
      "cell_type": "markdown",
      "metadata": {
        "id": "vt51LST4y9Fo",
        "colab_type": "text"
      },
      "source": [
        "Q8.Create the following rank 2 array with shape (3, 4)"
      ]
    },
    {
      "cell_type": "code",
      "metadata": {
        "id": "eAqk8v0NzBG7",
        "colab_type": "code",
        "colab": {}
      },
      "source": [
        "import numpy as np\n",
        "a = np.array([[1,2,3,4], [5,6,7,8], [9,10,11,12]])\n",
        "b = a[:2, 1:3]\n",
        "print(a[0,1])\n",
        "b[0,0]=77\n",
        "print(a[0,1])\n",
        "a.shape"
      ],
      "execution_count": 0,
      "outputs": []
    },
    {
      "cell_type": "markdown",
      "metadata": {
        "id": "VHqVC52gzey2",
        "colab_type": "text"
      },
      "source": [
        "Q9. Write a NumPy program to display all the elements of a given matrix that are bigger than 2;:\n",
        "[[1 0 3 5] \n",
        "[3 6 7 2] \n",
        "[3 2 4 1] \n",
        "[1 2 0 1]]"
      ]
    },
    {
      "cell_type": "code",
      "metadata": {
        "id": "ohBVWS0VzbMg",
        "colab_type": "code",
        "colab": {}
      },
      "source": [
        "import numpy as np\n",
        "x = np.array([[1,2,3,4], [5,6,7,8], [9,10,11,12]])\n",
        "print(\"original:\",x)\n",
        "print(\"Values>2\", x[x>2])\n",
        "print(\"indices are:\", np.nonzero(x>2))"
      ],
      "execution_count": 0,
      "outputs": []
    },
    {
      "cell_type": "markdown",
      "metadata": {
        "id": "QW5h_pQt0B9e",
        "colab_type": "text"
      },
      "source": [
        "Q10. Write a NumPy program to find a matrix or vector norm."
      ]
    },
    {
      "cell_type": "code",
      "metadata": {
        "id": "qraZvTV_0A61",
        "colab_type": "code",
        "colab": {}
      },
      "source": [
        "import numpy as np\n",
        "v = np.arange(7)\n",
        "result = np.linalg.norm(v)\n",
        "print(\"Vector form\",result)\n",
        "m = np.matrix('1, 2; 3, 4')\n",
        "result1 = np.linalg.norm(m)\n",
        "print(\"matrix norm\", result1)"
      ],
      "execution_count": 0,
      "outputs": []
    },
    {
      "cell_type": "markdown",
      "metadata": {
        "id": "n0eEadLi1AUu",
        "colab_type": "text"
      },
      "source": [
        "Q11. Write a NumPy program to compute the determinant of an array. \n",
        "[[2., 1., 1.], \n",
        "[1., 2., 1.], \n",
        "[1., 1., 2.]]"
      ]
    },
    {
      "cell_type": "code",
      "metadata": {
        "id": "nTiKZBKZ1Igk",
        "colab_type": "code",
        "colab": {}
      },
      "source": [
        "import numpy as np\n",
        "a = np.array([[2,1,1],[1,2,1],[1,1,2]])\n",
        "print(\"orignal\",a)\n",
        "result = np.linalg.det(a)\n",
        "print(\"Determinant is\", result)"
      ],
      "execution_count": 0,
      "outputs": []
    },
    {
      "cell_type": "markdown",
      "metadata": {
        "id": "zh2PuaO81oYS",
        "colab_type": "text"
      },
      "source": [
        "Q12. Write a NumPy program compute the inverse of a given matrix. \n",
        "([[0.1, 0.2], \n",
        "[0.3, 0.4], \n",
        "[0.5, 0.6], \n",
        "[0.7, 0.8]]"
      ]
    },
    {
      "cell_type": "code",
      "metadata": {
        "id": "dY6X6Ha_1m87",
        "colab_type": "code",
        "colab": {}
      },
      "source": [
        "import numpy as np\n",
        "a = np.array([[1,2,3,4],[5,6,7,8],[9,10,11,12],[13,14,15,16]])\n",
        "print(\"original:\",a)\n",
        "result = np.linalg.det(a)\n",
        "print(\"determinant is\",result)"
      ],
      "execution_count": 0,
      "outputs": []
    },
    {
      "cell_type": "markdown",
      "metadata": {
        "id": "mJptHsmz2dFE",
        "colab_type": "text"
      },
      "source": [
        "Q14. Write a NumPy program to add the vector v to each row of the matrix x given below \n",
        "x = [[ 2 2 4]\n",
        "[ 5 5 7]\n",
        "[ 8 8 10]\n",
        "[11 11 13]]\n",
        "v = [1 0 1]\n"
      ]
    },
    {
      "cell_type": "code",
      "metadata": {
        "id": "o1GGH-SC2e72",
        "colab_type": "code",
        "colab": {}
      },
      "source": [
        "import numpy as np\n",
        "m = np.array([[2,2,4], [5,5,7],[8,8,10],[11,11,13]])\n",
        "v=np.array([1,0,1])\n",
        "print(\"original vector:\",v)\n",
        "print(\"original matrix:\",m)\n",
        "print(m)\n",
        "result=np.empty_like(m)\n",
        "for i in range(4):\n",
        "  result[i,:]= m[i,:]+v\n",
        "\n",
        "print(\"addition:\",result)"
      ],
      "execution_count": 0,
      "outputs": []
    },
    {
      "cell_type": "markdown",
      "metadata": {
        "id": "XAeLmFySFocy",
        "colab_type": "text"
      },
      "source": [
        "Q15. Write a NumPy program compute the sum of the diagonal element of a given array."
      ]
    },
    {
      "cell_type": "code",
      "metadata": {
        "id": "p3DEet6JFsqs",
        "colab_type": "code",
        "colab": {}
      },
      "source": [
        "import numpy as np\n",
        "m = np.arange(6).reshape(2,3)\n",
        "print(\"Original Matrix:\",m)\n",
        "result = np.trace(m)\n",
        "print(\"Condition number of said matrix:\", result)"
      ],
      "execution_count": 0,
      "outputs": []
    },
    {
      "cell_type": "markdown",
      "metadata": {
        "id": "6NakugxLGqqB",
        "colab_type": "text"
      },
      "source": [
        "Q16.Write a program to construct a new set S1 which members are the powers of 2 of \n",
        "member of set S={0, 1, 2, 3, 4} \n",
        "i.e S1={ 2^0, 2^1, 2^2, 2^3, 2^4}\n"
      ]
    },
    {
      "cell_type": "code",
      "metadata": {
        "id": "9fzG2czXGpmJ",
        "colab_type": "code",
        "colab": {}
      },
      "source": [
        "import numpy as np\n",
        "a = np.array([[1,2,3,4], [5,6,7,8], [9,10,11,12]])\n",
        "b = a[:2, 1:3]\n",
        "print(a[0,1])\n",
        "b[0,0]=77\n",
        "print(a[0,1])"
      ],
      "execution_count": 0,
      "outputs": []
    },
    {
      "cell_type": "markdown",
      "metadata": {
        "id": "iZeH9JMtHQDr",
        "colab_type": "text"
      },
      "source": [
        "Q17. Write a NumPy program to get the qr factorization of a given array."
      ]
    },
    {
      "cell_type": "code",
      "metadata": {
        "id": "cZIJ0tCuHF73",
        "colab_type": "code",
        "colab": {}
      },
      "source": [
        "import numpy as np\n",
        "a = np.array([[4,12,-14], [12,37,-53], [-14,-53,98]], dtype=np.int32)\n",
        "print(\"Original Array:\")\n",
        "print(a)\n",
        "q,r= np.linalg.qr(a)\n",
        "print(\"qr factorization of said array is:\")\n",
        "print(\"q=\\n\",q,\"\\nr=\\n\",r)"
      ],
      "execution_count": 0,
      "outputs": []
    },
    {
      "cell_type": "markdown",
      "metadata": {
        "id": "Ur7UN9hoIWHE",
        "colab_type": "text"
      },
      "source": [
        "Q18. Write a NumPy program to compute the factor of a given array by Singular Value Decomposition."
      ]
    },
    {
      "cell_type": "code",
      "metadata": {
        "id": "SAzJmg3sITNc",
        "colab_type": "code",
        "colab": {}
      },
      "source": [
        "import numpy as np\n",
        "a = np.array([[1,0,0,0,2], [0,0,3,0,0], [0,0,0,0,0], [0,2,0,0,0]], dtype=np.int32)\n",
        "print(\"Original Aray:\")\n",
        "print(a)\n",
        "U,s,V = np.linalg.svd(a, full_matrices=False)\n",
        "q,r= np.linalg.qr(a)\n",
        "print(\"Factor of give array by Singular Value Decomposition\")\n",
        "print(\"U=\\n\",U,\"\\ns=\\n\",s,\"\\nV=\\n\",V)"
      ],
      "execution_count": 0,
      "outputs": []
    },
    {
      "cell_type": "markdown",
      "metadata": {
        "id": "2hCMmAnWJqOn",
        "colab_type": "text"
      },
      "source": [
        "Q19. Write a NumPy program to calculate the L1, L2 and Max norm of a given array. \n",
        "A= [-10, 20, 34, 68, -90, 12, 16]"
      ]
    },
    {
      "cell_type": "code",
      "metadata": {
        "id": "JbQJDicuJdqL",
        "colab_type": "code",
        "colab": {}
      },
      "source": [
        "#l1 norm of vector\n",
        "from numpy import array\n",
        "from numpy.linalg import norm\n",
        "a = array([-10,20,34,68,-90,12,16])\n",
        "print(a)\n",
        "l1 = norm(a,1)\n",
        "print(l1)\n",
        "\n",
        "#l2 norm of vector\n",
        "from numpy import array\n",
        "from numpy.linalg import norm\n",
        "a = array([-10,20,34,68,-90,12,16])\n",
        "print(a)\n",
        "l2 = norm(a)\n",
        "print(l2)\n",
        "\n",
        "#norm of vector\n",
        "from numpy import inf\n",
        "from numpy import array\n",
        "from numpy.linalg import norm\n",
        "a = array([-10,20,34,68,-90,12,16])\n",
        "print(a)\n",
        "maxnorm = norm(a, inf)\n",
        "print(maxnorm)"
      ],
      "execution_count": 0,
      "outputs": []
    },
    {
      "cell_type": "markdown",
      "metadata": {
        "id": "n_y97ixgLXJh",
        "colab_type": "text"
      },
      "source": [
        "Q20. Write a NumPy program to multiply a 5x3 matrix by a 3x2 matrix and create a real matrix product. Go to the editor \n",
        "Sample output: \n",
        "\n",
        "First array: \n",
        "[[ 0.44349753 0.81043761 0.00771825] \n",
        "[ 0.64004088 0.86774612 0.19944667] \n",
        "[ 0.61520091 0.24796788 0.93798297] \n",
        "[ 0.22156999 0.61318856 0.82348994] \n",
        "[ 0.91324026 0.13411297 0.00622696]] \n",
        "\n",
        "Second array: \n",
        "[[ 0.73873542 0.06448186] \n",
        "[ 0.90974982 0.06409165] \n",
        "[ 0.22321268 0.39147412]] \n",
        "\n",
        "Dot product of two arrays: \n",
        "[[ 1.06664562 0.08356133] \n",
        "[ 1.30677176 0.17496452] \n",
        "[ 0.88942914 0.42275803] \n",
        "[ 0.90534318 0.37596252] \n",
        "[ 0.79804212 0.06992065]]\n"
      ]
    },
    {
      "cell_type": "code",
      "metadata": {
        "id": "5Iq7JUKyLVdN",
        "colab_type": "code",
        "colab": {}
      },
      "source": [
        "import numpy as np\n",
        "x = np.random.random((5,3))\n",
        "print(\"First Array:\",x)\n",
        "y=np.random.random((3,2))\n",
        "print(\"Second Array\",y)\n",
        "z = np.dot(x, y)\n",
        "print(\"Dot Product is:\",z)"
      ],
      "execution_count": 0,
      "outputs": []
    },
    {
      "cell_type": "markdown",
      "metadata": {
        "id": "5TzB5VbBMQwJ",
        "colab_type": "text"
      },
      "source": [
        "Q21.Assume that S1 and S2 are the sets with the values S1 = {1, 2, 3, 4} and S2 = {3, 4, 5, 6}. \n",
        "Write a program to construct a new set which have the unique members of both the \n",
        "sets."
      ]
    },
    {
      "cell_type": "code",
      "metadata": {
        "id": "qUfjMS6gMPhx",
        "colab_type": "code",
        "colab": {}
      },
      "source": [
        "import numpy as np\n",
        "array1 = np.array([1,2,3,4])\n",
        "print(\"Array 1:\", array1)\n",
        "array2 = np.array([3,4,5,6])\n",
        "print(\"Array 2:\", array2)\n",
        "print(\"Unique values in arr1 are:\", np.setdiff1d(array1,array2))"
      ],
      "execution_count": 0,
      "outputs": []
    },
    {
      "cell_type": "markdown",
      "metadata": {
        "id": "jWRippJrQJ2H",
        "colab_type": "text"
      },
      "source": [
        "Q22.Write a program to do the followingi) Enter a vector u as a n-list.\n",
        "ii) Enter another vector v as a n-list.\n",
        "iii) Find the vector au +bv for different values of a and b.\n",
        "iv) Find the dot produvt of u and v."
      ]
    },
    {
      "cell_type": "code",
      "metadata": {
        "id": "I--n8gJ_M7ai",
        "colab_type": "code",
        "colab": {}
      },
      "source": [
        "import numpy as geek\n",
        "vect_a = geek.array(([1, 4], [5, 6]))\n",
        "vect_b = geek.array(([2, 4], [5, 2]))\n",
        "\n",
        "prod = geek.dot(vect_a, vect_b)\n",
        "print(\"Dot Product : \\n\", prod)\n",
        "\n",
        "prod = geek.dot(vect_b, vect_a)\n",
        "print(\"Dot Product : \\n\", prod)\n"
      ],
      "execution_count": 0,
      "outputs": []
    },
    {
      "cell_type": "markdown",
      "metadata": {
        "id": "DGFraruHR52V",
        "colab_type": "text"
      },
      "source": [
        "Q23.Write a program to do the following-\n",
        "i) Enter an r by c matrix M(r and c being positive integers). \n",
        "ii) Display M in matrix format. \n",
        "iii) Display the row and columns of the matrix M. \n",
        "iv) Find the scalar multiplication of M for a given scalar. \n",
        "v) Find the transpose of the matrix M."
      ]
    },
    {
      "cell_type": "code",
      "metadata": {
        "id": "TE5BGe7XRt8F",
        "colab_type": "code",
        "colab": {}
      },
      "source": [
        "import numpy as np\n",
        "m = np.array([[1,2], [3,4]])\n",
        "print(\"Original Matrix:\")\n",
        "print(m)\n",
        "result = np.linalg.inv(m)\n",
        "print(\"inverse of matrix is:\", result)"
      ],
      "execution_count": 0,
      "outputs": []
    },
    {
      "cell_type": "markdown",
      "metadata": {
        "id": "qmylMAnxZ9i9",
        "colab_type": "text"
      },
      "source": [
        "**Q24**.Write a program to do the following\n",
        "i) Find the vector-matrix multiplication of a r by c \n",
        "matrix M with an c- vector u. \n",
        "ii) Find the matrix- matrix product of M with a c \n",
        "by p matrix N."
      ]
    },
    {
      "cell_type": "code",
      "metadata": {
        "id": "EM8RSfBQZ2Yq",
        "colab_type": "code",
        "colab": {}
      },
      "source": [
        "import numpy as np\n",
        "a = np.array([[5,1,3],\n",
        "              [1,1,1],\n",
        "              [1,2,1]])\n",
        "b = np.array([1,2,3])\n",
        "print(a*b)"
      ],
      "execution_count": 0,
      "outputs": []
    },
    {
      "cell_type": "markdown",
      "metadata": {
        "id": "CPqWA5K4cb0Y",
        "colab_type": "text"
      },
      "source": [
        "Q25.Write a program to enter a matrix as below and check if it is invertible. If the inverse exists, find the inverse.\n",
        "[[1 0 3 5]\n",
        "[3 6 7 2]\n",
        "[3 2 4 1]\n",
        "[1 2 0 1]]"
      ]
    },
    {
      "cell_type": "code",
      "metadata": {
        "id": "9M1Yv8NlcWjm",
        "colab_type": "code",
        "colab": {}
      },
      "source": [
        "import numpy as np\n",
        "a = np.array([[1,0,3,5], [3,2,4,1], [1,2,0,1], [3, 6, 7, 2]])\n",
        "ainv = np.linalg.inv(a)\n",
        "print(ainv)"
      ],
      "execution_count": 0,
      "outputs": []
    },
    {
      "cell_type": "markdown",
      "metadata": {
        "id": "zBripsnWdlSL",
        "colab_type": "text"
      },
      "source": [
        "Q26.Write a program to find:\n",
        "A. rank, \n",
        "B. determinant, \n",
        "C. trace, of an array given below.\n",
        "[[6, 1, 1], \n",
        "[4, -2, 5], \n",
        "[2, 8, 7]]"
      ]
    },
    {
      "cell_type": "code",
      "metadata": {
        "id": "bFYOMGQBdCle",
        "colab_type": "code",
        "colab": {}
      },
      "source": [
        "#trace of matrix\n",
        "from numpy import array\n",
        "from numpy import trace\n",
        "from numpy.linalg import det\n",
        "a = array([[6, 1, 1], [4, -2, 5], [2, 8, 7]])\n",
        "print(a)\n",
        "b = trace(a)\n",
        "print(b)\n",
        "\n",
        "#determinant of matrix\n",
        "from numpy import array\n",
        "from numpy import trace\n",
        "a = array([[6, 1, 1], [4, -2, 5], [2, 8, 7]])\n",
        "print(a)\n",
        "b = det(a)\n",
        "print(b)"
      ],
      "execution_count": 0,
      "outputs": []
    }
  ]
}