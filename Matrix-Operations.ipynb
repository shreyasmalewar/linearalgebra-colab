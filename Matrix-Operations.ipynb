{
  "nbformat": 4,
  "nbformat_minor": 0,
  "metadata": {
    "colab": {
      "name": "Shreyas Malewar P5",
      "provenance": [],
      "include_colab_link": true
    },
    "kernelspec": {
      "name": "python3",
      "display_name": "Python 3"
    }
  },
  "cells": [
    {
      "cell_type": "markdown",
      "metadata": {
        "id": "view-in-github",
        "colab_type": "text"
      },
      "source": [
        "<a href=\"https://colab.research.google.com/github/shreyasmalewar/linearalgebra-colab/blob/master/Matrix-Operations.ipynb\" target=\"_parent\"><img src=\"https://colab.research.google.com/assets/colab-badge.svg\" alt=\"Open In Colab\"/></a>"
      ]
    },
    {
      "cell_type": "markdown",
      "metadata": {
        "id": "XRfrjuMPLEUt",
        "colab_type": "text"
      },
      "source": [
        "#PRACTICAL 5:\n",
        "Write a program to implement :\n",
        "1. Square Matrix\n",
        "2. Symmetric Matrix\n",
        "3. Triangular Matrix\n",
        "4. Diagonal Matrix\n",
        "5. Identity Matrix\n",
        "6. Orthogonal Matrix\n"
      ]
    },
    {
      "cell_type": "markdown",
      "metadata": {
        "id": "YvD1UiGxMDdt",
        "colab_type": "text"
      },
      "source": [
        "#Square Matrix\n",
        "A square matrix is a matrix where the number of rows (n) is equivalent to the number of\n",
        "columns (m).\n",
        "n \u0011 m (10.1)\n",
        "The square matrix is contrasted with the rectangular matrix where the number of rows and\n",
        "columns are not equal. Given that the number of rows and columns match, the dimensions are\n",
        "usually denoted as n, e.g. n\u0002n. The size of the matrix is called the order, so an order 4 square\n",
        "matrix is 4 \u0002 4. The vector of values along the diagonal of the matrix from the top left to the\n",
        "bottom right is called the main diagonal. Below is an example of an order 3 square matrix.\n",
        "M =(1 2 3;1 2 3;1 2 3)\n",
        "\n",
        "Square matrices are readily added and multiplied together and are the basis of many simple\n",
        "linear transformations, such as rotations (as in the rotations of images)."
      ]
    },
    {
      "cell_type": "markdown",
      "metadata": {
        "id": "rs_hJqNlMfGb",
        "colab_type": "text"
      },
      "source": [
        "#Symmetric Matrix\n",
        "A symmetric matrix is a type of square matrix where the top-right triangle is the same as the\n",
        "bottom-left triangle.\n",
        "It is no exaggeration to say that symmetric matrices S are the most important\n",
        "matrices the world will ever see | in the theory of linear algebra and also in the\n",
        "applications.\n",
        "| Page 338, Introduction to Linear Algebra, Fifth Edition, 2016.\n",
        "To be symmetric, the axis of symmetry is always the main diagonal of the matrix, from the\n",
        "top left to the bottom right. Below is an example of a 5 \u0002 5 symmetric matrix.\n",
        "M =(\n",
        "1 2 3 4 5;\n",
        "2 1 2 3 4;\n",
        "3 2 1 2 3;\n",
        "4 3 2 1 2;\n",
        "5 4 3 2 1;\n",
        ")\n",
        "A symmetric matrix is always square and equal to its own transpose. The transpose is an\n",
        "operation that \n",
        "ips the number of rows and columns. It is explained in more detail in the next\n",
        "lesson.\n",
        "M = MT"
      ]
    },
    {
      "cell_type": "markdown",
      "metadata": {
        "id": "0oZMWwstMv3m",
        "colab_type": "text"
      },
      "source": [
        "#Triangular Matrix\n",
        "A triangular matrix is a type of square matrix that has all values in the upper-right or lower-left\n",
        "of the matrix with the remaining elements \flled with zero values. A triangular matrix with\n",
        "values only above the main diagonal is called an upper triangular matrix. Whereas, a triangular\n",
        "matrix with values only below the main diagonal is called a lower triangular matrix. Below is\n",
        "an example of a 3 \u0002 3 upper triangular matrix.\n",
        "M =\n",
        "[\n",
        "1 2 3;\n",
        "0 2 3;\n",
        "0 0 3;\n",
        "]\n",
        "Below is an example of a 3 \u0002 3 lower triangular matrix.\n",
        "M =[\n",
        "1 0 0;\n",
        "1 2 0;\n",
        "1 2 3]\n",
        "A (10.6)\n",
        "NumPy provides functions to calculate a triangular matrix from an existing square matrix.\n",
        "The tril() function to calculate the lower triangular matrix from a given matrix and the\n",
        "triu() to calculate the upper triangular matrix from a given matrix The example below de\fnes\n",
        "a 3 \u0002 3 square matrix and calculates the lower and upper triangular matrix from it."
      ]
    },
    {
      "cell_type": "code",
      "metadata": {
        "id": "5yxuRjomNJxZ",
        "colab_type": "code",
        "outputId": "19b0130d-63c7-420b-b173-b23e1dbef068",
        "colab": {
          "base_uri": "https://localhost:8080/",
          "height": 168
        }
      },
      "source": [
        "# triangular matrices\n",
        "from numpy import array\n",
        "from numpy import tril\n",
        "from numpy import triu\n",
        "# define square matrix\n",
        "M = array([\n",
        "[1, 2, 3],\n",
        "[1, 2, 3],\n",
        "[1, 2, 3]])\n",
        "print(M)\n",
        "# lower triangular matrix\n",
        "lower = tril(M)\n",
        "print(lower)\n",
        "# upper triangular matrix\n",
        "upper = triu(M)\n",
        "print(upper)"
      ],
      "execution_count": 0,
      "outputs": [
        {
          "output_type": "stream",
          "text": [
            "[[1 2 3]\n",
            " [1 2 3]\n",
            " [1 2 3]]\n",
            "[[1 0 0]\n",
            " [1 2 0]\n",
            " [1 2 3]]\n",
            "[[1 2 3]\n",
            " [0 2 3]\n",
            " [0 0 3]]\n"
          ],
          "name": "stdout"
        }
      ]
    },
    {
      "cell_type": "markdown",
      "metadata": {
        "id": "xLp7x6muNRif",
        "colab_type": "text"
      },
      "source": [
        "#Diagonal Matrix\n",
        "A diagonal matrix is one where values outside of the main diagonal have a zero value, where the\n",
        "main diagonal is taken from the top left of the matrix to the bottom right. A diagonal matrix\n",
        "is often denoted with the variable D and may be represented as a full matrix or as a vector of\n",
        "values on the main diagonal.\n",
        "Diagonal matrices consist mostly of zeros and have non-zero entries only along the\n",
        "main diagonal."
      ]
    },
    {
      "cell_type": "code",
      "metadata": {
        "id": "tb6DifkdLDrB",
        "colab_type": "code",
        "outputId": "1d167fc7-7fab-439d-ca05-d8aedb0de0b0",
        "colab": {
          "base_uri": "https://localhost:8080/",
          "height": 134
        }
      },
      "source": [
        "# diagonal matrix\n",
        "from numpy import array\n",
        "from numpy import diag\n",
        "# define square matrix\n",
        "M = array([\n",
        "[1, 2, 3],\n",
        "[1, 2, 3],\n",
        "[1, 2, 3]])\n",
        "print(M)\n",
        "# extract diagonal vector\n",
        "d = diag(M)\n",
        "print(d)\n",
        "# create diagonal matrix from vector\n",
        "D = diag(d)\n",
        "print(D)"
      ],
      "execution_count": 0,
      "outputs": [
        {
          "output_type": "stream",
          "text": [
            "[[1 2 3]\n",
            " [1 2 3]\n",
            " [1 2 3]]\n",
            "[1 2 3]\n",
            "[[1 0 0]\n",
            " [0 2 0]\n",
            " [0 0 3]]\n"
          ],
          "name": "stdout"
        }
      ]
    },
    {
      "cell_type": "markdown",
      "metadata": {
        "id": "QwPsYAq6NaVe",
        "colab_type": "text"
      },
      "source": [
        "#Identity Matrix\n",
        "An identity matrix is a square matrix that does not change a vector when multiplied. The\n",
        "values of an identity matrix are known. All of the scalar values along the main diagonal (top-left\n",
        "to bottom-right) have the value one, while all other values are zero.\n",
        "An identity matrix is a matrix that does not change any vector when we multiply\n",
        "that vector by that matrix."
      ]
    },
    {
      "cell_type": "code",
      "metadata": {
        "id": "bVZzPHeDNonN",
        "colab_type": "code",
        "outputId": "456ac26c-95f2-4c7b-f0d9-712b62209887",
        "colab": {
          "base_uri": "https://localhost:8080/",
          "height": 67
        }
      },
      "source": [
        "# identity matrix\n",
        "from numpy import identity\n",
        "I = identity(3)\n",
        "print(I)"
      ],
      "execution_count": 0,
      "outputs": [
        {
          "output_type": "stream",
          "text": [
            "[[1. 0. 0.]\n",
            " [0. 1. 0.]\n",
            " [0. 0. 1.]]\n"
          ],
          "name": "stdout"
        }
      ]
    },
    {
      "cell_type": "markdown",
      "metadata": {
        "id": "DcU-hVnoNuQ8",
        "colab_type": "text"
      },
      "source": [
        "#Orthogonal Matrix\n",
        "Two vectors are orthogonal when their dot product equals zero. The length of each vector is 1\n",
        "then the vectors are called orthonormal because they are both orthogonal and normalized."
      ]
    },
    {
      "cell_type": "code",
      "metadata": {
        "id": "TXf5rh91Ny9L",
        "colab_type": "code",
        "outputId": "108b0b07-946a-4f1c-c938-5abdb5f589fa",
        "colab": {
          "base_uri": "https://localhost:8080/",
          "height": 151
        }
      },
      "source": [
        "# orthogonal matrix\n",
        "from numpy import array\n",
        "from numpy.linalg import inv\n",
        "# define orthogonal matrix\n",
        "Q = array([\n",
        "[1, 0],\n",
        "[0, -1]])\n",
        "print(Q)\n",
        "# inverse equivalence\n",
        "V = inv(Q)\n",
        "print(Q.T)\n",
        "print(V)\n",
        "# identity equivalence\n",
        "I = Q.dot(Q.T)\n",
        "print(I)"
      ],
      "execution_count": 0,
      "outputs": [
        {
          "output_type": "stream",
          "text": [
            "[[ 1  0]\n",
            " [ 0 -1]]\n",
            "[[ 1  0]\n",
            " [ 0 -1]]\n",
            "[[ 1.  0.]\n",
            " [-0. -1.]]\n",
            "[[1 0]\n",
            " [0 1]]\n"
          ],
          "name": "stdout"
        }
      ]
    }
  ]
}