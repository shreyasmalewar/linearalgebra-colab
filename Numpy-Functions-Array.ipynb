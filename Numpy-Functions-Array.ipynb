{
  "nbformat": 4,
  "nbformat_minor": 0,
  "metadata": {
    "colab": {
      "name": "Shreyas Malewar P1",
      "provenance": [],
      "include_colab_link": true
    },
    "kernelspec": {
      "name": "python3",
      "display_name": "Python 3"
    }
  },
  "cells": [
    {
      "cell_type": "markdown",
      "metadata": {
        "id": "view-in-github",
        "colab_type": "text"
      },
      "source": [
        "<a href=\"https://colab.research.google.com/github/shreyasmalewar/linearalgebra-colab/blob/master/Numpy-Functions-Array.ipynb\" target=\"_parent\"><img src=\"https://colab.research.google.com/assets/colab-badge.svg\" alt=\"Open In Colab\"/></a>"
      ]
    },
    {
      "cell_type": "markdown",
      "metadata": {
        "id": "wdDUZK0IEhhc",
        "colab_type": "text"
      },
      "source": [
        "\n",
        "##Write a program to implement :\n",
        "1. NumPy N-dimensional Array\n",
        "2. Functions to Create Arrays\n",
        "3. Combining Arrays"
      ]
    },
    {
      "cell_type": "markdown",
      "metadata": {
        "id": "aBXNdZLrr_SO",
        "colab_type": "text"
      },
      "source": [
        "##NumPy N Dimensional Array\n",
        "NumPy is a Python library that can be used for scienti\fc and numerical applications and is the\n",
        "tool to use for linear algebra operations. The main data structure in NumPy is the ndarray,\n",
        "which is a shorthand name for N-dimensional array. When working with NumPy, data in an\n",
        "ndarray is simply referred to as an array. It is a \fxed-sized array in memory that contains data\n",
        "of the same type, such as integers or \n",
        "oating point values.\n",
        "The data type supported by an array can be accessed via the dtype attribute on the array.\n",
        "The dimensions of an array can be accessed via the shape attribute that returns a tuple\n",
        "describing the length of each dimension. There are a host of other attributes. A simple way to create an array from data or simple Python data structures like a list is to use the array()\n",
        "function. The example below creates a Python list of 3 \n",
        "Floating point values, then creates an\n",
        "ndarray from the list and access the arrays' shape and data type."
      ]
    },
    {
      "cell_type": "code",
      "metadata": {
        "id": "zFuzDMU9sHlU",
        "colab_type": "code",
        "outputId": "7781a343-d468-4dae-ec8f-e8388ac0b1f3",
        "colab": {
          "base_uri": "https://localhost:8080/",
          "height": 67
        }
      },
      "source": [
        "#import Numpy\n",
        "from numpy import array\n",
        "#create Array\n",
        "a=[5.6,9.6,3.9]\n",
        "a=array(a)\n",
        "#print a\n",
        "print(a)\n",
        "#print shape\n",
        "print(a.shape)\n",
        "#print datatype\n",
        "print(a.dtype)"
      ],
      "execution_count": 0,
      "outputs": [
        {
          "output_type": "stream",
          "text": [
            "[5.6 9.6 3.9]\n",
            "(3,)\n",
            "float64\n"
          ],
          "name": "stdout"
        }
      ]
    },
    {
      "cell_type": "markdown",
      "metadata": {
        "id": "Dxw80IPOtjF1",
        "colab_type": "text"
      },
      "source": [
        "## Create Array"
      ]
    },
    {
      "cell_type": "markdown",
      "metadata": {
        "id": "EGDiiYElHGNx",
        "colab_type": "text"
      },
      "source": [
        "###Empty\n",
        "The empty() function will create a new array of the speci\fed shape. The argument to the\n",
        "function is an array or tuple that speci\fes the length of each dimension of the array to create.\n",
        "The values or content of the created array will be random and will need to be assigned before\n",
        "use. The example below creates an empty 3 \u0002 3 two-dimensional array."
      ]
    },
    {
      "cell_type": "code",
      "metadata": {
        "id": "ERy6JnFxtBMh",
        "colab_type": "code",
        "outputId": "93aebba9-cb4b-436e-c710-4a6630606a36",
        "colab": {
          "base_uri": "https://localhost:8080/",
          "height": 84
        }
      },
      "source": [
        "# create empty array\n",
        "from numpy import empty\n",
        "a = empty([3,3])\n",
        "print(a)\n",
        "print(a.dtype)"
      ],
      "execution_count": 0,
      "outputs": [
        {
          "output_type": "stream",
          "text": [
            "[[4.9e-324 9.9e-324 1.5e-323]\n",
            " [2.0e-323 2.5e-323 3.0e-323]\n",
            " [3.5e-323 4.0e-323 4.4e-323]]\n",
            "float64\n"
          ],
          "name": "stdout"
        }
      ]
    },
    {
      "cell_type": "markdown",
      "metadata": {
        "id": "YDE2WdCJHMRM",
        "colab_type": "text"
      },
      "source": [
        "###Ones\n",
        "The ones() function will create a new array of the speci\fed size with the contents \flled with\n",
        "one values. The argument to the function is an array or tuple that speci\fes the length of each\n",
        "dimension of the array to create. The example below creates a 5-element one-dimensional array."
      ]
    },
    {
      "cell_type": "code",
      "metadata": {
        "id": "ABOgnguMuUeh",
        "colab_type": "code",
        "outputId": "b1f50c5b-4307-41e2-aded-2cc804262277",
        "colab": {
          "base_uri": "https://localhost:8080/",
          "height": 84
        }
      },
      "source": [
        "#create array\n",
        "from numpy import ones\n",
        "from numpy import array\n",
        "a=ones([3,3])\n",
        "print(a)\n",
        "print(a.dtype)"
      ],
      "execution_count": 0,
      "outputs": [
        {
          "output_type": "stream",
          "text": [
            "[[1. 1. 1.]\n",
            " [1. 1. 1.]\n",
            " [1. 1. 1.]]\n",
            "float64\n"
          ],
          "name": "stdout"
        }
      ]
    },
    {
      "cell_type": "markdown",
      "metadata": {
        "id": "8qkychrFIB5I",
        "colab_type": "text"
      },
      "source": [
        "###Zeros\n",
        "The zeros() function will create a new array of the speci\fed size with the contents \flled with\n",
        "zero values. The argument to the function is an array or tuple that speci\fes the length of each\n",
        "dimension of the array to create. The example below creates a 3 \u0002 5 zero two-dimensional array."
      ]
    },
    {
      "cell_type": "code",
      "metadata": {
        "id": "zvnD8PSst3aq",
        "colab_type": "code",
        "outputId": "ae417694-b9b1-4110-89c0-a21e42e67f22",
        "colab": {
          "base_uri": "https://localhost:8080/",
          "height": 84
        }
      },
      "source": [
        "# create empty array\n",
        "from numpy import zeros\n",
        "a = zeros([3,3])\n",
        "print(a)\n",
        "print(a.dtype)"
      ],
      "execution_count": 0,
      "outputs": [
        {
          "output_type": "stream",
          "text": [
            "[[0. 0. 0.]\n",
            " [0. 0. 0.]\n",
            " [0. 0. 0.]]\n",
            "float64\n"
          ],
          "name": "stdout"
        }
      ]
    },
    {
      "cell_type": "markdown",
      "metadata": {
        "id": "d9wVclbSxCMT",
        "colab_type": "text"
      },
      "source": [
        "##Stacking"
      ]
    },
    {
      "cell_type": "markdown",
      "metadata": {
        "id": "Cnhdh-Qe093K",
        "colab_type": "text"
      },
      "source": [
        "###Vertical Stack\n",
        "Given two or more existing arrays, you can stack them vertically using the vstack() function.\n",
        "For example, given two one-dimensional arrays, you can create a new two-dimensional array\n",
        "with two rows by vertically stacking them. This is demonstrated in the example below."
      ]
    },
    {
      "cell_type": "code",
      "metadata": {
        "id": "5D3amajGuZyY",
        "colab_type": "code",
        "outputId": "0bcc6689-81cc-48f0-87b4-eacd41e9781a",
        "colab": {
          "base_uri": "https://localhost:8080/",
          "height": 84
        }
      },
      "source": [
        "#import library\n",
        "from numpy import array\n",
        "from numpy import vstack\n",
        "import numpy as np\n",
        "#create array 1\n",
        "a1=[1,2,3]\n",
        "#create array 2\n",
        "a2=[4,5,6]\n",
        "print(a1)\n",
        "print(a2)\n",
        "print(np.vstack((a1,a2)))\n"
      ],
      "execution_count": 0,
      "outputs": [
        {
          "output_type": "stream",
          "text": [
            "[1, 2, 3]\n",
            "[4, 5, 6]\n",
            "[[1 2 3]\n",
            " [4 5 6]]\n"
          ],
          "name": "stdout"
        }
      ]
    },
    {
      "cell_type": "markdown",
      "metadata": {
        "id": "yoG1u2ANxHS6",
        "colab_type": "text"
      },
      "source": [
        "###Horizontal Stack\n",
        "Given two or more existing arrays, you can stack them horizontally using the hstack() function.\n",
        "For example, given two one-dimensional arrays, you can create a new one-dimensional array or\n",
        "one row with the columns of the \frst and second arrays concatenated. This is demonstrated in\n",
        "the example below."
      ]
    },
    {
      "cell_type": "code",
      "metadata": {
        "id": "klbY6TMfvO2R",
        "colab_type": "code",
        "outputId": "8fd8312e-7b44-444a-f7b7-582192637492",
        "colab": {
          "base_uri": "https://localhost:8080/",
          "height": 67
        }
      },
      "source": [
        "#import library\n",
        "from numpy import array\n",
        "from numpy import hstack\n",
        "import numpy as np\n",
        "#create array 1\n",
        "a1=[1,2,3]\n",
        "#create array 2\n",
        "a2=[4,5,6]\n",
        "print(a1)\n",
        "print(a2)\n",
        "print(np.hstack((a1,a2)))\n"
      ],
      "execution_count": 0,
      "outputs": [
        {
          "output_type": "stream",
          "text": [
            "[1, 2, 3]\n",
            "[4, 5, 6]\n",
            "[1 2 3 4 5 6]\n"
          ],
          "name": "stdout"
        }
      ]
    },
    {
      "cell_type": "code",
      "metadata": {
        "id": "1aJsBCKHBk8X",
        "colab_type": "code",
        "colab": {}
      },
      "source": [
        ""
      ],
      "execution_count": 0,
      "outputs": []
    }
  ]
}