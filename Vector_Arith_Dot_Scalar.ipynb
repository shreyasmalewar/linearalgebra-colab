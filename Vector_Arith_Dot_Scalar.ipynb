{
  "nbformat": 4,
  "nbformat_minor": 0,
  "metadata": {
    "colab": {
      "name": "Shreyas Malewar  P3",
      "provenance": [],
      "collapsed_sections": [],
      "include_colab_link": true
    },
    "kernelspec": {
      "name": "python3",
      "display_name": "Python 3"
    }
  },
  "cells": [
    {
      "cell_type": "markdown",
      "metadata": {
        "id": "view-in-github",
        "colab_type": "text"
      },
      "source": [
        "<a href=\"https://colab.research.google.com/github/shreyasmalewar/linearalgebra-colab/blob/master/Vector_Arith_Dot_Scalar.ipynb\" target=\"_parent\"><img src=\"https://colab.research.google.com/assets/colab-badge.svg\" alt=\"Open In Colab\"/></a>"
      ]
    },
    {
      "cell_type": "markdown",
      "metadata": {
        "id": "bEm2Dwb1I7A4",
        "colab_type": "text"
      },
      "source": [
        "\n",
        "##Write a program to implement :\n",
        "\n",
        "1. Vector Arithmetic\n",
        "2. Vector Dot Product\n",
        "3. Vector-Scalar Multiplication"
      ]
    },
    {
      "cell_type": "markdown",
      "metadata": {
        "id": "dIwDpqZHwBDR",
        "colab_type": "text"
      },
      "source": [
        "#Defining a vector\n",
        "We can represent a vector in Python as a NumPy array. A NumPy array can be created from a list of numbers. For example, below we define a vector with the length of 3 and the integer values 1, 2 and 3."
      ]
    },
    {
      "cell_type": "code",
      "metadata": {
        "id": "d3ccRaxYvbPV",
        "colab_type": "code",
        "outputId": "3a9fd482-051c-4799-e5a7-1524950e6dc5",
        "colab": {
          "base_uri": "https://localhost:8080/",
          "height": 34
        }
      },
      "source": [
        "from numpy import array\n",
        "v=([1,2,3])\n",
        "print(v)"
      ],
      "execution_count": 0,
      "outputs": [
        {
          "output_type": "stream",
          "text": [
            "[1, 2, 3]\n"
          ],
          "name": "stdout"
        }
      ]
    },
    {
      "cell_type": "markdown",
      "metadata": {
        "id": "C5sSePhDwvK6",
        "colab_type": "text"
      },
      "source": [
        "#Vector Arithmentic \n",
        "In this section will demonstrate simple vector-vector arithmetic, where all operations are performed element-wise between two vectors of equal length to result in a new vector with the same length"
      ]
    },
    {
      "cell_type": "markdown",
      "metadata": {
        "id": "WK8uEqyryK_n",
        "colab_type": "text"
      },
      "source": [
        "#Vector Addition\n",
        "Two vectors of equal length can be added together to create a new third vector. c = a + b (7.3) The new vector has the same length as the other two vectors. Each element of the new vector is calculated as the addition of the elements of the other vectors at the same index; for example: c = (a1 + b1; a2 + b2; a3 + b3)"
      ]
    },
    {
      "cell_type": "code",
      "metadata": {
        "id": "o6JiXceYyOmY",
        "colab_type": "code",
        "outputId": "273582b9-c804-4663-b2f8-9c875df3cb83",
        "colab": {
          "base_uri": "https://localhost:8080/",
          "height": 68
        }
      },
      "source": [
        "from numpy import array\n",
        "a=array([1,2,3])\n",
        "print(a)\n",
        "b=array([4,5,6])\n",
        "print(b)\n",
        "c=a+b\n",
        "print(c)"
      ],
      "execution_count": 0,
      "outputs": [
        {
          "output_type": "stream",
          "text": [
            "[1 2 3]\n",
            "[4 5 6]\n",
            "[5 7 9]\n"
          ],
          "name": "stdout"
        }
      ]
    },
    {
      "cell_type": "markdown",
      "metadata": {
        "id": "Shzz9zXcymjS",
        "colab_type": "text"
      },
      "source": [
        "#Vector Subtraction \n",
        "One vector can be subtracted from another vector of equal length to create a new third vector. c = a - b (7.6) 7.4. Vector Arithmetic 47 As with addition, the new vector has the same length as the parent vectors and each element of the new vector is calculated as the subtraction of the elements at the same indices. c = (a1 - b1; a2 - b2; a3 - b3)"
      ]
    },
    {
      "cell_type": "code",
      "metadata": {
        "id": "hL0b0kufyKeL",
        "colab_type": "code",
        "outputId": "6c43cfe3-acd6-4569-aa0a-5fa25aa453a4",
        "colab": {
          "base_uri": "https://localhost:8080/",
          "height": 68
        }
      },
      "source": [
        "from numpy import array\n",
        "a=array([1,2,3])\n",
        "print(a)\n",
        "b=array([0.5,0.5,0.5])\n",
        "print(b)\n",
        "c=a-b\n",
        "print(c)"
      ],
      "execution_count": 0,
      "outputs": [
        {
          "output_type": "stream",
          "text": [
            "[1 2 3]\n",
            "[0.5 0.5 0.5]\n",
            "[0.5 1.5 2.5]\n"
          ],
          "name": "stdout"
        }
      ]
    },
    {
      "cell_type": "markdown",
      "metadata": {
        "id": "yo3puCBvy5Xx",
        "colab_type": "text"
      },
      "source": [
        "#Vector Multiplication\n",
        "Two vectors of equal length can be multiplied together. c = a * b (7.9) As with addition and subtraction, this operation is performed element-wise to result in a new vector of the same length. c = (a1* b1; a2 * b2; a3 * b3) or c = (a1b1; a2b2; a3b3)"
      ]
    },
    {
      "cell_type": "code",
      "metadata": {
        "id": "TnZ1JSRCy_pg",
        "colab_type": "code",
        "outputId": "79f50350-f135-4e5e-f612-75e0c8ad696f",
        "colab": {
          "base_uri": "https://localhost:8080/",
          "height": 68
        }
      },
      "source": [
        "from numpy import array\n",
        "a=array([1,2,3])\n",
        "print(a)\n",
        "b=array([3,4,5])\n",
        "print(b)\n",
        "c=a*b\n",
        "print(c)"
      ],
      "execution_count": 0,
      "outputs": [
        {
          "output_type": "stream",
          "text": [
            "[1 2 3]\n",
            "[3 4 5]\n",
            "[ 3  8 15]\n"
          ],
          "name": "stdout"
        }
      ]
    },
    {
      "cell_type": "markdown",
      "metadata": {
        "id": "63l41Et1zLqF",
        "colab_type": "text"
      },
      "source": [
        "#Vector Division\n",
        "Two vectors of equal length can be divided. c =a/b\n",
        "\n",
        "As with other arithmetic operations, this operation is performed element-wise to result in a new vector of the same length. c = (a1/b1;a2/b2;a3/b3)"
      ]
    },
    {
      "cell_type": "code",
      "metadata": {
        "id": "qNz1naNGzOvq",
        "colab_type": "code",
        "outputId": "8d9332ad-e2e7-4e7d-ff06-b90794405606",
        "colab": {
          "base_uri": "https://localhost:8080/",
          "height": 68
        }
      },
      "source": [
        "from numpy import array\n",
        "a=array([12,15,20])\n",
        "print(a)\n",
        "b=array([4,3,4])\n",
        "print(b)\n",
        "c=a/b\n",
        "print(c)"
      ],
      "execution_count": 0,
      "outputs": [
        {
          "output_type": "stream",
          "text": [
            "[12 15 20]\n",
            "[4 3 4]\n",
            "[3. 5. 5.]\n"
          ],
          "name": "stdout"
        }
      ]
    },
    {
      "cell_type": "markdown",
      "metadata": {
        "id": "MpjoWJXc0AlV",
        "colab_type": "text"
      },
      "source": [
        "#Vector Dot Product\n",
        "We can calculate the sum of the multiplied elements of two vectors of the same length to give a scalar. This is called the dot product, named because of the dot operator used when describing the operation. The dot product is the key tool for calculating vector projections, vector decompositions, and determining orthogonality. The name dot product comes from the symbol used to denote it"
      ]
    },
    {
      "cell_type": "code",
      "metadata": {
        "id": "5l9aI88k0ANQ",
        "colab_type": "code",
        "outputId": "792f1228-7555-4285-a2d4-8d0ddbf7a771",
        "colab": {
          "base_uri": "https://localhost:8080/",
          "height": 68
        }
      },
      "source": [
        "from numpy import array\n",
        "a=array([1,2,3])\n",
        "print(a)\n",
        "b=array([1,2,3])\n",
        "print(b)\n",
        "c=a.dot(b)\n",
        "print(c)"
      ],
      "execution_count": 0,
      "outputs": [
        {
          "output_type": "stream",
          "text": [
            "[1 2 3]\n",
            "[1 2 3]\n",
            "14\n"
          ],
          "name": "stdout"
        }
      ]
    },
    {
      "cell_type": "markdown",
      "metadata": {
        "id": "7y9ga8hK1D65",
        "colab_type": "text"
      },
      "source": [
        "#Vector Scalar Multiplication\n",
        "A vector can be multiplied by a scalar, in e\u000bect scaling the magnitude of the vector. To keep notation simple, we will use lowercase s to represent the scalar value. c = s * v (7.19) or c = sv (7.20) The multiplication is performed on each element of the vector to result in a new scaled vector of the same length. c = (s * v1; s * v2; s * v3)"
      ]
    },
    {
      "cell_type": "code",
      "metadata": {
        "id": "RspciBja1Be5",
        "colab_type": "code",
        "outputId": "464da98b-bd03-4e2a-a09a-48b2ce2eb079",
        "colab": {
          "base_uri": "https://localhost:8080/",
          "height": 67
        }
      },
      "source": [
        "from numpy import array\n",
        "a=array([1,2,3])\n",
        "print(a)\n",
        "s=0.5\n",
        "print(s)\n",
        "c=s*a\n",
        "print(c)"
      ],
      "execution_count": 0,
      "outputs": [
        {
          "output_type": "stream",
          "text": [
            "[1 2 3]\n",
            "0.5\n",
            "[0.5 1.  1.5]\n"
          ],
          "name": "stdout"
        }
      ]
    }
  ]
}