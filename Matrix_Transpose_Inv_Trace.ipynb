{
  "nbformat": 4,
  "nbformat_minor": 0,
  "metadata": {
    "colab": {
      "name": "Shreyas Malewar P6",
      "provenance": [],
      "include_colab_link": true
    },
    "kernelspec": {
      "name": "python3",
      "display_name": "Python 3"
    }
  },
  "cells": [
    {
      "cell_type": "markdown",
      "metadata": {
        "id": "view-in-github",
        "colab_type": "text"
      },
      "source": [
        "<a href=\"https://colab.research.google.com/github/shreyasmalewar/linearalgebra-colab/blob/master/Matrix_Transpose_Inv_Trace.ipynb\" target=\"_parent\"><img src=\"https://colab.research.google.com/assets/colab-badge.svg\" alt=\"Open In Colab\"/></a>"
      ]
    },
    {
      "cell_type": "markdown",
      "metadata": {
        "id": "64d9PbZSOAHS",
        "colab_type": "text"
      },
      "source": [
        "#PRACTICAL 6:\n",
        "Write a program to implement :\n",
        "1. Transpose\n",
        "2. Inverse\n",
        "3. Trace\n",
        "4. Determinant\n",
        "5. Rank"
      ]
    },
    {
      "cell_type": "markdown",
      "metadata": {
        "id": "ZsfvJU6lOLf5",
        "colab_type": "text"
      },
      "source": [
        "#A defined matrix can be transposed, which creates a new matrix with the number of columns\n",
        "and rows \n",
        "ipped. This is denoted by the superscript T next to the matrix AT .\n",
        "C = AT"
      ]
    },
    {
      "cell_type": "code",
      "metadata": {
        "id": "mb7498VBOxtt",
        "colab_type": "code",
        "outputId": "548786e6-3268-4d16-c5af-d8f6b2bcda2c",
        "colab": {
          "base_uri": "https://localhost:8080/",
          "height": 101
        }
      },
      "source": [
        "# transpose matrix\n",
        "from numpy import array\n",
        "# define matrix\n",
        "A = array([\n",
        "[1, 2],\n",
        "[3, 4],\n",
        "[5, 6]])\n",
        "print(A)\n",
        "# calculate transpose\n",
        "C = A.T\n",
        "print(C)"
      ],
      "execution_count": 0,
      "outputs": [
        {
          "output_type": "stream",
          "text": [
            "[[1 2]\n",
            " [3 4]\n",
            " [5 6]]\n",
            "[[1 3 5]\n",
            " [2 4 6]]\n"
          ],
          "name": "stdout"
        }
      ]
    },
    {
      "cell_type": "markdown",
      "metadata": {
        "id": "Ya0u1kW9QTMg",
        "colab_type": "text"
      },
      "source": [
        "#Inverse\n",
        "Matrix inversion is a process that \fnds another matrix that when multiplied with the matrix,\n",
        "results in an identity matrix. Given a matrix A, \fnd matrix B, such that AB = In or BA = In.\n",
        "AB = BA = In"
      ]
    },
    {
      "cell_type": "code",
      "metadata": {
        "id": "1ODgEzxGQVXn",
        "colab_type": "code",
        "outputId": "e9e9127d-baeb-44a0-e5e8-c551e7d6b9f0",
        "colab": {
          "base_uri": "https://localhost:8080/",
          "height": 118
        }
      },
      "source": [
        "# invert matrix\n",
        "from numpy import array\n",
        "from numpy.linalg import inv\n",
        "# define matrix\n",
        "A = array([\n",
        "[1.0, 2.0],\n",
        "[3.0, 4.0]])\n",
        "print(A)\n",
        "# invert matrix\n",
        "B = inv(A)\n",
        "print(B)\n",
        "# multiply A and B\n",
        "I = A.dot(B)\n",
        "print(I)"
      ],
      "execution_count": 0,
      "outputs": [
        {
          "output_type": "stream",
          "text": [
            "[[1. 2.]\n",
            " [3. 4.]]\n",
            "[[-2.   1. ]\n",
            " [ 1.5 -0.5]]\n",
            "[[1.0000000e+00 0.0000000e+00]\n",
            " [8.8817842e-16 1.0000000e+00]]\n"
          ],
          "name": "stdout"
        }
      ]
    },
    {
      "cell_type": "markdown",
      "metadata": {
        "id": "wQGF0wcuR-8T",
        "colab_type": "text"
      },
      "source": [
        "#Trace\n",
        "A trace of a square matrix is the sum of the values on the main diagonal of the matrix (top-left\n",
        "to bottom-right).\n",
        "The trace operator gives the sum of all of the diagonal entries of a matrix\n",
        "| Page 46, Deep Learning, 2016.\n",
        "The operation of calculating a trace on a square matrix is described using the notation tr(A)\n",
        "where A is the square matrix on which the operation is being performed.\n",
        "tr(A) \n",
        "The trace is calculated as the sum of the diagonal values; for example, in the case of a 3 * 3\n",
        "matrix:\n",
        "tr(A) = a1;1 + a2;2 + a3;3 (11.7)\n",
        "Or, using array notation:\n",
        "tr(A) = A[0; 0] + A[1; 1] + A[2; 2] \n",
        "We can calculate the trace of a matrix in NumPy using the trace() function."
      ]
    },
    {
      "cell_type": "code",
      "metadata": {
        "id": "yVIMrPUcSHqA",
        "colab_type": "code",
        "outputId": "09155571-6ac7-4e90-c4e2-0388c8957fc3",
        "colab": {
          "base_uri": "https://localhost:8080/",
          "height": 84
        }
      },
      "source": [
        "# matrix trace\n",
        "from numpy import array\n",
        "from numpy import trace\n",
        "# define matrix\n",
        "A = array([\n",
        "[1, 2, 3],\n",
        "[4, 5, 6],\n",
        "[7, 8, 9]])\n",
        "print(A)\n",
        "# calculate trace\n",
        "B = trace(A)\n",
        "print(B)"
      ],
      "execution_count": 0,
      "outputs": [
        {
          "output_type": "stream",
          "text": [
            "[[1 2 3]\n",
            " [4 5 6]\n",
            " [7 8 9]]\n",
            "15\n"
          ],
          "name": "stdout"
        }
      ]
    },
    {
      "cell_type": "markdown",
      "metadata": {
        "id": "GmsDtqbUSMAW",
        "colab_type": "text"
      },
      "source": [
        "#Determinant\n",
        "The determinant of a square matrix is a scalar representation of the volume of the matrix.\n",
        "The determinant describes the relative geometry of the vectors that make up the\n",
        "rows of the matrix. More speci\fcally, the determinant of a matrix A tells you the\n",
        "volume of a box with sides given by rows of A."
      ]
    },
    {
      "cell_type": "code",
      "metadata": {
        "id": "2UhW5fzlSQgE",
        "colab_type": "code",
        "outputId": "d0f814ca-c915-4ae1-9aaf-5a8d04e2bdd2",
        "colab": {
          "base_uri": "https://localhost:8080/",
          "height": 84
        }
      },
      "source": [
        "# matrix determinant\n",
        "from numpy import array\n",
        "from numpy.linalg import det\n",
        "# define matrix\n",
        "A = array([\n",
        "[1, 2, 3],\n",
        "[4, 5, 6],\n",
        "[7, 8, 9]])\n",
        "print(A)\n",
        "# calculate determinant\n",
        "B = det(A)\n",
        "print(B)"
      ],
      "execution_count": 0,
      "outputs": [
        {
          "output_type": "stream",
          "text": [
            "[[1 2 3]\n",
            " [4 5 6]\n",
            " [7 8 9]]\n",
            "0.0\n"
          ],
          "name": "stdout"
        }
      ]
    },
    {
      "cell_type": "markdown",
      "metadata": {
        "id": "SeITP1vFSWXI",
        "colab_type": "text"
      },
      "source": [
        "#Rank\n",
        "The rank of a matrix is the estimate of the number of linearly independent rows or columns in\n",
        "a matrix. The rank of a matrix M is often denoted as the function rank().\n",
        "rank(A) (11.10)\n",
        "An intuition for rank is to consider it the number of dimensions spanned by all of the vectors\n",
        "within a matrix. For example, a rank of 0 suggest all vectors span a point, a rank of 1 suggests\n",
        "all vectors span a line, a rank of 2 suggests all vectors span a two-dimensional plane. The rank\n",
        "is estimated numerically, often using a matrix decomposition method. A common approach is to\n",
        "use the Singular-Value Decomposition or SVD for short. NumPy provides the matrix rank()\n",
        "function for calculating the rank of an array. It uses the SVD method to estimate the rank. The\n",
        "example below demonstrates calculating the rank of a matrix with scalar values and another\n",
        "vector with all zero values."
      ]
    },
    {
      "cell_type": "code",
      "metadata": {
        "id": "H4OHMHO8SVzK",
        "colab_type": "code",
        "outputId": "4fd984e7-6b77-4163-afeb-99675b2eb04a",
        "colab": {
          "base_uri": "https://localhost:8080/",
          "height": 84
        }
      },
      "source": [
        "# vector rank\n",
        "from numpy import array\n",
        "from numpy.linalg import matrix_rank\n",
        "# rank\n",
        "v1 = array([1,2,3])\n",
        "print(v1)\n",
        "vr1 = matrix_rank(v1)\n",
        "print(vr1)\n",
        "# zero rank\n",
        "v2 = array([0,0,0,0,0])\n",
        "print(v2)\n",
        "vr2 = matrix_rank(v2)\n",
        "print(vr2)"
      ],
      "execution_count": 0,
      "outputs": [
        {
          "output_type": "stream",
          "text": [
            "[1 2 3]\n",
            "1\n",
            "[0 0 0 0 0]\n",
            "0\n"
          ],
          "name": "stdout"
        }
      ]
    },
    {
      "cell_type": "code",
      "metadata": {
        "id": "aL8o8HHXSYNy",
        "colab_type": "code",
        "outputId": "0149831f-3540-4c54-ea13-9dd2c0dbdedd",
        "colab": {
          "base_uri": "https://localhost:8080/",
          "height": 168
        }
      },
      "source": [
        "# matrix rank\n",
        "from numpy import array\n",
        "from numpy.linalg import matrix_rank\n",
        "# rank 0\n",
        "M0 = array([\n",
        "[0,0],\n",
        "[0,0]])\n",
        "print(M0)\n",
        "mr0 = matrix_rank(M0)\n",
        "print(mr0)\n",
        "# rank 1\n",
        "M1 = array([\n",
        "[1,2],\n",
        "[1,2]])\n",
        "print(M1)\n",
        "mr1 = matrix_rank(M1)\n",
        "print(mr1)\n",
        "# rank 2\n",
        "M2 = array([\n",
        "[1,2],\n",
        "[3,4]])\n",
        "print(M2)\n",
        "mr2 = matrix_rank(M2)\n",
        "print(mr2)"
      ],
      "execution_count": 0,
      "outputs": [
        {
          "output_type": "stream",
          "text": [
            "[[0 0]\n",
            " [0 0]]\n",
            "0\n",
            "[[1 2]\n",
            " [1 2]]\n",
            "1\n",
            "[[1 2]\n",
            " [3 4]]\n",
            "2\n"
          ],
          "name": "stdout"
        }
      ]
    },
    {
      "cell_type": "code",
      "metadata": {
        "id": "rai6tI8ReqXY",
        "colab_type": "code",
        "colab": {}
      },
      "source": [
        ""
      ],
      "execution_count": 0,
      "outputs": []
    }
  ]
}