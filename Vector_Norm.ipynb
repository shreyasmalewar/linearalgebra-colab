{
  "nbformat": 4,
  "nbformat_minor": 0,
  "metadata": {
    "colab": {
      "name": "Shreyas Malewar P4",
      "provenance": [],
      "include_colab_link": true
    },
    "kernelspec": {
      "name": "python3",
      "display_name": "Python 3"
    }
  },
  "cells": [
    {
      "cell_type": "markdown",
      "metadata": {
        "id": "view-in-github",
        "colab_type": "text"
      },
      "source": [
        "<a href=\"https://colab.research.google.com/github/shreyasmalewar/linearalgebra-colab/blob/master/Vector_Norm.ipynb\" target=\"_parent\"><img src=\"https://colab.research.google.com/assets/colab-badge.svg\" alt=\"Open In Colab\"/></a>"
      ]
    },
    {
      "cell_type": "markdown",
      "metadata": {
        "id": "5_dFjKQ53pDh",
        "colab_type": "text"
      },
      "source": [
        "#PRACTICAL 4:\n",
        "Write a program to implement :\n",
        "\n",
        "1. Vector Norm\n",
        "2. Vector L1 Norm\n",
        "3. Vector L2 Norm\n",
        "4. Vector Max Norm"
      ]
    },
    {
      "cell_type": "markdown",
      "metadata": {
        "id": "xMNs-TagLUtQ",
        "colab_type": "text"
      },
      "source": [
        "#Vector Norm\n",
        "Calculating the size or length of a vector is often required either directly or as part of a broader vector or vector-matrix operation. The length of the vector is referred to as the vector norm or the vector's magnitude. The length of a vector is a nonnegative number that describes the extent of the vector in space, and is sometimes referred to as the vector's magnitude or the norm.The length of the vector is always a positive number, except for a vector of all zero values. It is calculated using some measure that summarizes the distance of the vector from the origin of the vector space. For example, the origin of a vector space for a vector with 3 elements is (0; 0; 0). Notations are used to represent the vector norm in broader calculations and the type of vector norm calculation almost always has its own unique notation. We will take a look at a few common vector norm calculations used in machine learning."
      ]
    },
    {
      "cell_type": "markdown",
      "metadata": {
        "id": "T6RdtWgB5TJw",
        "colab_type": "text"
      },
      "source": [
        "#Vector L1 Norm\n",
        "The length of a vector can be calculated using the L1 norm, where the 1 is a superscript of the L. The notation for the L1 norm of a vector is jjvjj1, where 1 is a subscript. As such, this length is sometimes called the taxicab norm or the Manhattan norm. L1(v) = ||v||1 The L1 norm is calculated as the sum of the absolute vector values, where the absolute value of a scalar uses the notation ja1j. In e\u000bect, the norm is a calculation of the Manhattan distance from the origin of the vector space. ||v||1 = |a1| + |a2| + |a3| In several machine learning applications, it is important to discriminate between elements that are exactly zero and elements that are small but nonzero. In these cases, we turn to a function that grows at the same rate in all locations, but retains mathematical simplicity: the L1 norm."
      ]
    },
    {
      "cell_type": "code",
      "metadata": {
        "id": "es184Lp32mPu",
        "colab_type": "code",
        "outputId": "898d1aca-f3e3-4975-9f9d-18a0fb47ff3f",
        "colab": {
          "base_uri": "https://localhost:8080/",
          "height": 51
        }
      },
      "source": [
        "from numpy import array\n",
        "from numpy. linalg import norm\n",
        "a=array([1,2,3])\n",
        "print(a)\n",
        "l1=norm(a,1)\n",
        "print(l1)"
      ],
      "execution_count": 0,
      "outputs": [
        {
          "output_type": "stream",
          "text": [
            "[1 2 3]\n",
            "6.0\n"
          ],
          "name": "stdout"
        }
      ]
    },
    {
      "cell_type": "markdown",
      "metadata": {
        "id": "l89czSai58C0",
        "colab_type": "text"
      },
      "source": [
        "#Vector L2 Norm\n",
        "The length of a vector can be calculated using the L2 norm, where the 2 is a superscript of the L. The notation for the L2 norm of a vector is jjvjj2 where 2 is a subscript. L2(v) = ||v||2 The L2 norm calculates the distance of the vector coordinate from the origin of the vector space. As such, it is also known as the Euclidean norm as it is calculated as the Euclidean distance from the origin. The result is a positive distance value. The L2 norm is calculated as the square root of the sum of the squared vector values. ||v||2 =sqrt(a12+a22+a3**2) The L2 norm of a vector can be calculated in NumPy using the norm() function with default parameters.\n",
        "\n"
      ]
    },
    {
      "cell_type": "code",
      "metadata": {
        "id": "Mw2xEHQK6Aqa",
        "colab_type": "code",
        "outputId": "6f073944-379a-46a3-d39a-a17bb3499c62",
        "colab": {
          "base_uri": "https://localhost:8080/",
          "height": 51
        }
      },
      "source": [
        "from numpy import array\n",
        "from numpy. linalg import norm\n",
        "a=array([1,2,3])\n",
        "print(a)\n",
        "l2=norm(a,2)\n",
        "print(l2)\n"
      ],
      "execution_count": 0,
      "outputs": [
        {
          "output_type": "stream",
          "text": [
            "[1 2 3]\n",
            "3.7416573867739413\n"
          ],
          "name": "stdout"
        }
      ]
    },
    {
      "cell_type": "markdown",
      "metadata": {
        "id": "k5hKtJ6L6MFD",
        "colab_type": "text"
      },
      "source": [
        "#Vector Max Norm\n",
        "The length of a vector can be calculated using the maximum norm, also called max norm. Max norm of a vector is referred to as Linf where inf is a superscript and can be represented with the infinity symbol. The notation for max norm is jjvjjinf , where inf is a subscript. Linf (v) = ||v||inf The max norm is calculated as returning the maximum value of the vector, hence the name. ||v||inf = max a1; a2; a3 The max norm of a vector can be calculated in NumPy using the norm() function with the order parameter set to inf."
      ]
    },
    {
      "cell_type": "code",
      "metadata": {
        "id": "FgAxi7nR6QpT",
        "colab_type": "code",
        "outputId": "65c9bb4e-1fcb-497b-db79-438ec1d9dc51",
        "colab": {
          "base_uri": "https://localhost:8080/",
          "height": 51
        }
      },
      "source": [
        "from math import inf\n",
        "from numpy import array\n",
        "from numpy. linalg import norm\n",
        "a=array([1,2,3])\n",
        "print(a)\n",
        "maxnorm=norm(a,inf)\n",
        "print(maxnorm)\n"
      ],
      "execution_count": 0,
      "outputs": [
        {
          "output_type": "stream",
          "text": [
            "[1 2 3]\n",
            "3.0\n"
          ],
          "name": "stdout"
        }
      ]
    },
    {
      "cell_type": "markdown",
      "metadata": {
        "id": "m58F77E_9sOm",
        "colab_type": "text"
      },
      "source": [
        "#Let x=[-10,2,4,8,9] then which of this is greater L1,L2,L3,Linf"
      ]
    },
    {
      "cell_type": "code",
      "metadata": {
        "id": "nNbFYJGs-B-7",
        "colab_type": "code",
        "outputId": "3606309d-27ec-475b-f269-46de65cd7537",
        "colab": {
          "base_uri": "https://localhost:8080/",
          "height": 102
        }
      },
      "source": [
        "from math import inf\n",
        "from numpy import array\n",
        "from numpy. linalg import norm\n",
        "a=array([-10,2,4,8,9])\n",
        "print(a)\n",
        "l1=norm(a,1)\n",
        "l2=norm(a,2)\n",
        "l3=norm(a,3)\n",
        "maxnorm=norm(a,inf)\n",
        "print(l1)\n",
        "print(l2)\n",
        "print(l3)\n",
        "print(maxnorm)\n"
      ],
      "execution_count": 0,
      "outputs": [
        {
          "output_type": "stream",
          "text": [
            "[-10   2   4   8   9]\n",
            "33.0\n",
            "16.278820596099706\n",
            "13.224884189174803\n",
            "10.0\n"
          ],
          "name": "stdout"
        }
      ]
    }
  ]
}