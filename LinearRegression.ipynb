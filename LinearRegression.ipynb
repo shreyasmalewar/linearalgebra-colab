{
  "nbformat": 4,
  "nbformat_minor": 0,
  "metadata": {
    "colab": {
      "name": "Shreyas Malewar P8",
      "provenance": [],
      "collapsed_sections": [],
      "toc_visible": true,
      "include_colab_link": true
    },
    "kernelspec": {
      "name": "python3",
      "display_name": "Python 3"
    }
  },
  "cells": [
    {
      "cell_type": "markdown",
      "metadata": {
        "id": "view-in-github",
        "colab_type": "text"
      },
      "source": [
        "<a href=\"https://colab.research.google.com/github/shreyasmalewar/linearalgebra-colab/blob/master/LinearRegression.ipynb\" target=\"_parent\"><img src=\"https://colab.research.google.com/assets/colab-badge.svg\" alt=\"Open In Colab\"/></a>"
      ]
    },
    {
      "cell_type": "markdown",
      "metadata": {
        "id": "5Xr6yeqt6sUD",
        "colab_type": "text"
      },
      "source": [
        "#PRACTICAL 8:\n",
        "Linear Regression is a machine learning algorithm based on supervised learning. It performs a regression task. Regression models a target prediction value based on independent variables. It is mostly used for finding out the relationship between variables and forecasting. Different regression models differ based on – the kind of relationship between dependent and independent variables, they are considering and the number of independent variables being used. Linear regression performs the task to predict a dependent variable value (y) based on a given independent variable (x). So, this regression technique finds out a linear relationship between x (input) and y(output). Hence, the name is Linear Regression.\n",
        "In the figure above, X (input) is the work experience and Y (output) is the salary of a person. The regression line is the best fit line for our model."
      ]
    },
    {
      "cell_type": "code",
      "metadata": {
        "id": "PzLYJwdV9_fv",
        "colab_type": "code",
        "outputId": "ab1ce131-9aad-4fc6-dc7b-9e6b264ead07",
        "colab": {
          "base_uri": "https://localhost:8080/",
          "height": 51
        }
      },
      "source": [
        "from google.colab import drive\n",
        "drive.mount('/gdrive')\n",
        "%cd /gdrive"
      ],
      "execution_count": 0,
      "outputs": [
        {
          "output_type": "stream",
          "text": [
            "Drive already mounted at /gdrive; to attempt to forcibly remount, call drive.mount(\"/gdrive\", force_remount=True).\n",
            "/gdrive\n"
          ],
          "name": "stdout"
        }
      ]
    },
    {
      "cell_type": "code",
      "metadata": {
        "id": "LipWadVJ-CO3",
        "colab_type": "code",
        "outputId": "7e446c7b-ce35-49d0-bd9d-404254600b43",
        "colab": {
          "base_uri": "https://localhost:8080/",
          "height": 34
        }
      },
      "source": [
        "ls"
      ],
      "execution_count": 0,
      "outputs": [
        {
          "output_type": "stream",
          "text": [
            "\u001b[0m\u001b[01;34m'My Drive'\u001b[0m/\n"
          ],
          "name": "stdout"
        }
      ]
    },
    {
      "cell_type": "code",
      "metadata": {
        "id": "SYRuS5Zs-Q-Y",
        "colab_type": "code",
        "outputId": "bb22ada4-c949-4a05-ccd8-8519f22239a2",
        "colab": {
          "base_uri": "https://localhost:8080/",
          "height": 34
        }
      },
      "source": [
        "cd /gdrive/My Drive/Colab Notebooks"
      ],
      "execution_count": 0,
      "outputs": [
        {
          "output_type": "stream",
          "text": [
            "/gdrive/My Drive/Colab Notebooks\n"
          ],
          "name": "stdout"
        }
      ]
    },
    {
      "cell_type": "code",
      "metadata": {
        "id": "cEm9AlWV-lRL",
        "colab_type": "code",
        "outputId": "4eed061f-f4e0-4aab-afb6-4e56ca16b867",
        "colab": {
          "base_uri": "https://localhost:8080/",
          "height": 187
        }
      },
      "source": [
        "ls"
      ],
      "execution_count": 0,
      "outputs": [
        {
          "output_type": "stream",
          "text": [
            "'Copy of B_29.ipynb'          'Shreyas Malewar  P3.ipynb'\n",
            "'Copy of Shreyas Malewar P1'  'Shreyas Malewar P4.ipynb'\n",
            "'Copy of Shreyas Malewar P2'  'Shreyas Malewar P5.ipynb'\n",
            "\u001b[0m\u001b[01;34m'House Price Prediction'\u001b[0m/     'Shreyas Malewar P6.ipynb'\n",
            " incd1.csv                    'Shreyas Malewar P7.ipynb'\n",
            " incd1.gsheet                 'Shreyas Malewar P8.ipynb'\n",
            "'Linear Algebra Hacks.ipynb'   Untitled0.ipynb\n",
            " RO_Office.xlsx                Untitled1.ipynb\n",
            "'Shreyas Malewar P1.ipynb'     Untitled2.ipynb\n",
            "'Shreyas Malewar P2.ipynb'\n"
          ],
          "name": "stdout"
        }
      ]
    },
    {
      "cell_type": "code",
      "metadata": {
        "id": "EeKbMQO0-pw7",
        "colab_type": "code",
        "colab": {}
      },
      "source": [
        "import numpy as np\n",
        "import matplotlib.pyplot as plt\n",
        "import pandas as pd"
      ],
      "execution_count": 0,
      "outputs": []
    },
    {
      "cell_type": "code",
      "metadata": {
        "id": "7Hg6EQCD-w8M",
        "colab_type": "code",
        "colab": {}
      },
      "source": [
        "#import data set\n",
        "dataset= pd.read_csv('incd1.csv')\n",
        "X= dataset.iloc[:,:-1].values\n",
        "Y= dataset.iloc[:,1].values"
      ],
      "execution_count": 0,
      "outputs": []
    },
    {
      "cell_type": "code",
      "metadata": {
        "id": "ZOoB5VIR7-KV",
        "colab_type": "code",
        "outputId": "1435d3bb-ad51-434b-ae4d-45cbed5d64d3",
        "colab": {
          "base_uri": "https://localhost:8080/",
          "height": 34
        }
      },
      "source": [
        "#Splitting the data\n",
        "from sklearn.model_selection import train_test_split\n",
        "X_train, X_test, Y_train, Y_test= train_test_split(X,Y,test_size= 0.3)\n",
        "\n",
        "#Fitting Simple Linear Regression ipynb\n",
        "#This is called Model \n",
        "from sklearn.linear_model import LinearRegression\n",
        "regressor= LinearRegression()\n",
        "regressor.fit(X_train,Y_train)"
      ],
      "execution_count": 0,
      "outputs": [
        {
          "output_type": "execute_result",
          "data": {
            "text/plain": [
              "LinearRegression(copy_X=True, fit_intercept=True, n_jobs=None, normalize=False)"
            ]
          },
          "metadata": {
            "tags": []
          },
          "execution_count": 28
        }
      ]
    },
    {
      "cell_type": "code",
      "metadata": {
        "id": "IyGu8yVO8DbZ",
        "colab_type": "code",
        "outputId": "802384b4-532f-4623-b214-ed402afc00f4",
        "colab": {
          "base_uri": "https://localhost:8080/",
          "height": 573
        }
      },
      "source": [
        "##Predicting the test results\n",
        "Y_pred= regressor.predict(X_test)\n",
        "\n",
        "#Visualising the training set Results\n",
        "\n",
        "plt.scatter(X_train, Y_train, color='red')\n",
        "plt.plot(X_train, regressor.predict(X_train), color='blue')\n",
        "plt.title('avg vs annual_count(Training set)')\n",
        "plt.xlabel('avg')\n",
        "plt.ylabel('annual count')\n",
        "plt.show()\n",
        "plt.scatter(X_test, Y_test, color='red')\n",
        "plt.plot(X_test, regressor.predict(X_test), color='blue')\n",
        "plt.title('avg vs annual_count(Test set)')\n",
        "plt.xlabel('avg')\n",
        "plt.ylabel('annual count')\n",
        "plt.show()"
      ],
      "execution_count": 0,
      "outputs": [
        {
          "output_type": "display_data",
          "data": {
            "image/png": "[encoded data removed]",
            "text/plain": [
              "<Figure size 432x288 with 1 Axes>"
            ]
          },
          "metadata": {
            "tags": []
          }
        },
        {
          "output_type": "display_data",
          "data": {
            "image/png": "[encoded data removed]",
            "text/plain": [
              "<Figure size 432x288 with 1 Axes>"
            ]
          },
          "metadata": {
            "tags": []
          }
        }
      ]
    },
    {
      "cell_type": "code",
      "metadata": {
        "id": "qJ7Q2YpxmyXt",
        "colab_type": "code",
        "outputId": "29e7528f-e3a3-4d6a-dacb-a912ff56485c",
        "colab": {
          "base_uri": "https://localhost:8080/",
          "height": 34
        }
      },
      "source": [
        "print(regressor.predict([[1092]]))"
      ],
      "execution_count": 0,
      "outputs": [
        {
          "output_type": "stream",
          "text": [
            "[314.20591231]\n"
          ],
          "name": "stdout"
        }
      ]
    },
    {
      "cell_type": "code",
      "metadata": {
        "id": "P0tTbPSioHlN",
        "colab_type": "code",
        "outputId": "b5525186-9814-4818-c249-edc89dfe7ca3",
        "colab": {
          "base_uri": "https://localhost:8080/",
          "height": 51
        }
      },
      "source": [
        "a=int(input(\"What is the avg? \"))\n",
        "print('The Annual count is', regressor.predict([[a]]))"
      ],
      "execution_count": 0,
      "outputs": [
        {
          "output_type": "stream",
          "text": [
            "What is the avg? 25660\n",
            "The Annual count is [13711.08122641]\n"
          ],
          "name": "stdout"
        }
      ]
    },
    {
      "cell_type": "code",
      "metadata": {
        "id": "gUqVnOhHArhZ",
        "colab_type": "code",
        "colab": {}
      },
      "source": [
        "2564"
      ],
      "execution_count": 0,
      "outputs": []
    }
  ]
}