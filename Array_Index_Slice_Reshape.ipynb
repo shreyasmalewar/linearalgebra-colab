{
  "nbformat": 4,
  "nbformat_minor": 0,
  "metadata": {
    "colab": {
      "name": "Shreyas Malewar P2",
      "provenance": [],
      "include_colab_link": true
    },
    "kernelspec": {
      "name": "python3",
      "display_name": "Python 3"
    }
  },
  "cells": [
    {
      "cell_type": "markdown",
      "metadata": {
        "id": "view-in-github",
        "colab_type": "text"
      },
      "source": [
        "<a href=\"https://colab.research.google.com/github/shreyasmalewar/linearalgebra-colab/blob/master/Array_Index_Slice_Reshape.ipynb\" target=\"_parent\"><img src=\"https://colab.research.google.com/assets/colab-badge.svg\" alt=\"Open In Colab\"/></a>"
      ]
    },
    {
      "cell_type": "markdown",
      "metadata": {
        "id": "nbBBdONFih8_",
        "colab_type": "text"
      },
      "source": [
        "\n",
        "##Write a program to implement :\n",
        "1. From List to Arrays\n",
        "2. Array Indexing\n",
        "3. Array Slicing\n",
        "4. Array Reshaping"
      ]
    },
    {
      "cell_type": "markdown",
      "metadata": {
        "id": "PgaZIRfFC5yj",
        "colab_type": "text"
      },
      "source": [
        "#From List to Arrays\n",
        "In general, I recommend loading your data from \fle using Pandas or even NumPy functions.\n",
        "This section assumes you have loaded or generated your data by other means and it is now\n",
        "represented using Python lists. Let's look at converting your data in lists to NumPy arrays."
      ]
    },
    {
      "cell_type": "markdown",
      "metadata": {
        "id": "c1AbUv2Qx33J",
        "colab_type": "text"
      },
      "source": [
        "##1D List to array"
      ]
    },
    {
      "cell_type": "code",
      "metadata": {
        "id": "4-n2_X0vxSSK",
        "colab_type": "code",
        "outputId": "698ef42d-fb37-40dd-90ff-d3d761db17b1",
        "colab": {
          "base_uri": "https://localhost:8080/",
          "height": 50
        }
      },
      "source": [
        "#Create 1D array\n",
        "from numpy import array\n",
        "data = [16,23,45,12,89,56,46,20]\n",
        "data = array(data)\n",
        "print(data)\n",
        "print(type(data))"
      ],
      "execution_count": 0,
      "outputs": [
        {
          "output_type": "stream",
          "text": [
            "[16 23 45 12 89 56 46 20]\n",
            "<class 'numpy.ndarray'>\n"
          ],
          "name": "stdout"
        }
      ]
    },
    {
      "cell_type": "markdown",
      "metadata": {
        "id": "Kps-D4aeykDz",
        "colab_type": "text"
      },
      "source": [
        "##2D List to Array"
      ]
    },
    {
      "cell_type": "code",
      "metadata": {
        "id": "FyBOPPNqyjXx",
        "colab_type": "code",
        "outputId": "f52f58db-49d9-4a4e-ed01-d5518e600131",
        "colab": {
          "base_uri": "https://localhost:8080/",
          "height": 101
        }
      },
      "source": [
        "#Create 2D array\n",
        "from numpy import array\n",
        "data = [[16,23],[45,12],[89,56],[46,20]]\n",
        "data = array(data)\n",
        "print(data)\n",
        "print(type(data))"
      ],
      "execution_count": 0,
      "outputs": [
        {
          "output_type": "stream",
          "text": [
            "[[16 23]\n",
            " [45 12]\n",
            " [89 56]\n",
            " [46 20]]\n",
            "<class 'numpy.ndarray'>\n"
          ],
          "name": "stdout"
        }
      ]
    },
    {
      "cell_type": "markdown",
      "metadata": {
        "id": "DoWQlNjIzMh6",
        "colab_type": "text"
      },
      "source": [
        "##Array Indexing\n"
      ]
    },
    {
      "cell_type": "code",
      "metadata": {
        "id": "FGc5xPILyXty",
        "colab_type": "code",
        "outputId": "de20f61d-2c47-49b5-8fd8-425d13797901",
        "colab": {
          "base_uri": "https://localhost:8080/",
          "height": 50
        }
      },
      "source": [
        "#index 1D array\n",
        "from numpy import array\n",
        "data = [23,45,12,89,56]\n",
        "#indexed array\n",
        "print(data[3])\n",
        "print(data[1])\n"
      ],
      "execution_count": 0,
      "outputs": [
        {
          "output_type": "stream",
          "text": [
            "89\n",
            "45\n"
          ],
          "name": "stdout"
        }
      ]
    },
    {
      "cell_type": "code",
      "metadata": {
        "id": "gQIfYueIzs7V",
        "colab_type": "code",
        "outputId": "986fdfc9-46a3-4c3b-b88a-2a5463174c28",
        "colab": {
          "base_uri": "https://localhost:8080/",
          "height": 84
        }
      },
      "source": [
        "#index 2D array\n",
        "from numpy import array\n",
        "data = [[16,23],[45,12],[89,56],[46,20]]\n",
        "data = array(data)\n",
        "print(data[0,0])\n",
        "print(data[0,1])\n",
        "print(data[1,1])\n",
        "print(type(data))"
      ],
      "execution_count": 0,
      "outputs": [
        {
          "output_type": "stream",
          "text": [
            "16\n",
            "23\n",
            "12\n",
            "<class 'numpy.ndarray'>\n"
          ],
          "name": "stdout"
        }
      ]
    },
    {
      "cell_type": "markdown",
      "metadata": {
        "id": "iPHMTM16nalL",
        "colab_type": "text"
      },
      "source": [
        "#Array Slicing:"
      ]
    },
    {
      "cell_type": "markdown",
      "metadata": {
        "id": "0L694nc9EeTe",
        "colab_type": "text"
      },
      "source": [
        "Array Slicing\n",
        "So far, so good; creating and indexing arrays looks familiar. Now we come to array slicing, and\n",
        "this is one feature that causes problems for beginners to Python and NumPy arrays. Structures\n",
        "like lists and NumPy arrays can be sliced. This means that a subsequence of the structure\n",
        "can be indexed and retrieved. This is most useful in machine learning when specifying input\n",
        "variables and output variables, or splitting training rows from testing rows. Slicing is speci\fed\n",
        "using the colon operator : with a from and to index before and after the column respectively.\n",
        "The slice extends from the from index and ends one item before the to index."
      ]
    },
    {
      "cell_type": "code",
      "metadata": {
        "id": "DX0g-RHu1Pyj",
        "colab_type": "code",
        "outputId": "c91a2897-fbc5-4f2e-d724-4d1ce041aef1",
        "colab": {
          "base_uri": "https://localhost:8080/",
          "height": 118
        }
      },
      "source": [
        "from numpy import array\n",
        "data = [1,4,6,1,2,3,8,9,3]\n",
        "data = array(data)\n",
        "print(data[:])\n",
        "print(data[2:])\n",
        "print(data[:3])\n",
        "print(data[1:])\n",
        "print(data[:6])\n",
        "print(data[2:5])"
      ],
      "execution_count": 0,
      "outputs": [
        {
          "output_type": "stream",
          "text": [
            "[1 4 6 1 2 3 8 9 3]\n",
            "[6 1 2 3 8 9 3]\n",
            "[1 4 6]\n",
            "[4 6 1 2 3 8 9 3]\n",
            "[1 4 6 1 2 3]\n",
            "[6 1 2]\n"
          ],
          "name": "stdout"
        }
      ]
    },
    {
      "cell_type": "code",
      "metadata": {
        "id": "jh5HMGo032Xz",
        "colab_type": "code",
        "outputId": "f29a6774-66b4-4a26-9ac0-7d67628d319f",
        "colab": {
          "base_uri": "https://localhost:8080/",
          "height": 84
        }
      },
      "source": [
        "#split input and output data\n",
        "from numpy import array\n",
        "# define array\n",
        "data = array([[11, 22, 33],\n",
        "\t\t          [44, 55, 66],\n",
        "\t\t          [77, 88, 99]])\n",
        "# separate data\n",
        "X, y = data[:, :1], data[:, 1]\n",
        "print(X)\n",
        "print(y)"
      ],
      "execution_count": 0,
      "outputs": [
        {
          "output_type": "stream",
          "text": [
            "[[11]\n",
            " [44]\n",
            " [77]]\n",
            "[22 55 88]\n"
          ],
          "name": "stdout"
        }
      ]
    },
    {
      "cell_type": "markdown",
      "metadata": {
        "id": "2LeAYA9EE4WZ",
        "colab_type": "text"
      },
      "source": [
        "Split Train and Test Rows\n",
        "It is common to split a loaded dataset into separate train and test sets. This is a splitting of\n",
        "rows where some portion will be used to train the model and the remaining portion will be used\n",
        "to estimate the skill of the trained model. This would involve slicing all columns by specifying :\n",
        "in the second dimension index. The training dataset would be all rows from the beginning to\n",
        "the split point."
      ]
    },
    {
      "cell_type": "code",
      "metadata": {
        "id": "VgOKwX8infst",
        "colab_type": "code",
        "outputId": "92a3b9aa-00e7-4d6e-b58c-48d4f9c54e5d",
        "colab": {
          "base_uri": "https://localhost:8080/",
          "height": 67
        }
      },
      "source": [
        "# split train and test data\n",
        "from numpy import array\n",
        "# define array\n",
        "data = array([\n",
        "[11, 22, 33],\n",
        "[44, 55, 66],\n",
        "[77, 88, 99]])\n",
        "# separate data\n",
        "split = 2\n",
        "train,test = data[:split,:],data[split:,:]\n",
        "print(train)\n",
        "print(test)"
      ],
      "execution_count": 0,
      "outputs": [
        {
          "output_type": "stream",
          "text": [
            "[[11 22 33]\n",
            " [44 55 66]]\n",
            "[[77 88 99]]\n"
          ],
          "name": "stdout"
        }
      ]
    },
    {
      "cell_type": "code",
      "metadata": {
        "colab_type": "code",
        "id": "mALfkc3DKPZL",
        "outputId": "1d922257-f690-4039-cfea-117b9fc8e522",
        "colab": {
          "base_uri": "https://localhost:8080/",
          "height": 34
        }
      },
      "source": [
        "# negative slicing of a one-dimensional array\n",
        "from numpy import array\n",
        "# define array\n",
        "data = array([11, 22, 33, 44, 55])\n",
        "print(data[-2:])"
      ],
      "execution_count": 0,
      "outputs": [
        {
          "output_type": "stream",
          "text": [
            "[44 55]\n"
          ],
          "name": "stdout"
        }
      ]
    },
    {
      "cell_type": "markdown",
      "metadata": {
        "id": "XNjsbLn7AI9M",
        "colab_type": "text"
      },
      "source": [
        "#DATA SHAPE"
      ]
    },
    {
      "cell_type": "code",
      "metadata": {
        "id": "-jWvs1dvAHob",
        "colab_type": "code",
        "outputId": "1833eef2-9bc5-43d7-fccd-cbf49b0428fb",
        "colab": {
          "base_uri": "https://localhost:8080/",
          "height": 34
        }
      },
      "source": [
        "# shape of one-dimensional array\n",
        "from numpy import array\n",
        "# define array\n",
        "data = array([11, 22, 33, 44, 55])\n",
        "print(data.shape)"
      ],
      "execution_count": 0,
      "outputs": [
        {
          "output_type": "stream",
          "text": [
            "(5,)\n"
          ],
          "name": "stdout"
        }
      ]
    },
    {
      "cell_type": "code",
      "metadata": {
        "id": "DuJGk1wZ72ek",
        "colab_type": "code",
        "outputId": "a2705e40-b44a-4d12-ac1f-eeadc9ad734c",
        "colab": {
          "base_uri": "https://localhost:8080/",
          "height": 34
        }
      },
      "source": [
        "#shape of array\n",
        "from numpy import array\n",
        "#define array\n",
        "data=array([[1,2,3],\n",
        "            [4,5,6],\n",
        "            [7,8,9]])\n",
        "#print shape\n",
        "print(data.shape)"
      ],
      "execution_count": 0,
      "outputs": [
        {
          "output_type": "stream",
          "text": [
            "(3, 3)\n"
          ],
          "name": "stdout"
        }
      ]
    },
    {
      "cell_type": "code",
      "metadata": {
        "id": "yJk7t2LY8w23",
        "colab_type": "code",
        "outputId": "41a81f65-b3c9-4349-f080-6f7a600941af",
        "colab": {
          "base_uri": "https://localhost:8080/",
          "height": 50
        }
      },
      "source": [
        "#shape of array\n",
        "from numpy import array\n",
        "#define array\n",
        "data=array([[1,2,3],\n",
        "            [4,5,6],\n",
        "            [7,8,9]])\n",
        "print('Rows: %d' % data.shape[0])\n",
        "print('Col: %d' % data.shape[1])"
      ],
      "execution_count": 0,
      "outputs": [
        {
          "output_type": "stream",
          "text": [
            "Rows: 3\n",
            "Col: 3\n"
          ],
          "name": "stdout"
        }
      ]
    },
    {
      "cell_type": "markdown",
      "metadata": {
        "id": "NmSogQ-LGtCx",
        "colab_type": "text"
      },
      "source": [
        "#Reshaping\n",
        "It is common to need to reshape a one-dimensional array into a two-dimensional array with\n",
        "one column and multiple arrays. NumPy provides the reshape() function on the NumPy array\n",
        "object that can be used to reshape the data. The reshape() function takes a single argument\n",
        "that species the new shape of the array. In the case of reshaping a one-dimensional array into\n",
        "a two-dimensional array with one column, the tuple would be the shape of the array as the frst\n",
        "dimension (data.shape[0]) and 1 for the second dimension."
      ]
    },
    {
      "cell_type": "markdown",
      "metadata": {
        "id": "eD3Etpt-Ap3X",
        "colab_type": "text"
      },
      "source": [
        "## ARRAY RESHAPING 1D ARRAY TO 2D ARRAY\n"
      ]
    },
    {
      "cell_type": "code",
      "metadata": {
        "id": "fGA5viu8Ah7Z",
        "colab_type": "code",
        "outputId": "37a25d0f-a1f2-42ab-88e3-ca48a5829326",
        "colab": {
          "base_uri": "https://localhost:8080/",
          "height": 50
        }
      },
      "source": [
        "# reshape 1D array to 2D\n",
        "from numpy import array\n",
        "# define array\n",
        "data = array([11, 22, 33, 44, 55])\n",
        "print(data.shape)\n",
        "# reshape\n",
        "data = data.reshape((data.shape[0], 1))\n",
        "print(data.shape)"
      ],
      "execution_count": 0,
      "outputs": [
        {
          "output_type": "stream",
          "text": [
            "(5,)\n",
            "(5, 1)\n"
          ],
          "name": "stdout"
        }
      ]
    },
    {
      "cell_type": "markdown",
      "metadata": {
        "id": "nFjOZKteA9U7",
        "colab_type": "text"
      },
      "source": [
        "## ARRAY RESHAPING 2D ARRAY TO 3D ARRAY"
      ]
    },
    {
      "cell_type": "code",
      "metadata": {
        "id": "jWmdEOCgA5wS",
        "colab_type": "code",
        "outputId": "35965df1-32bb-4f35-f09e-1d5e9edca491",
        "colab": {
          "base_uri": "https://localhost:8080/",
          "height": 50
        }
      },
      "source": [
        "\n",
        "from numpy import array\n",
        "# list of data\n",
        "data = [[11, 22],\n",
        "[33, 44],\n",
        "[55, 66]]\n",
        "# array of data\n",
        "data = array(data)\n",
        "print(data.shape)\n",
        "# reshape\n",
        "data = data.reshape((data.shape[0], data.shape[1], 1))\n",
        "print(data.shape)"
      ],
      "execution_count": 0,
      "outputs": [
        {
          "output_type": "stream",
          "text": [
            "(3, 2)\n",
            "(3, 2, 1)\n"
          ],
          "name": "stdout"
        }
      ]
    }
  ]
}