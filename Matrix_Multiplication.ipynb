{
  "nbformat": 4,
  "nbformat_minor": 0,
  "metadata": {
    "colab": {
      "name": "Shreyas Malewar P7",
      "provenance": [],
      "include_colab_link": true
    },
    "kernelspec": {
      "name": "python3",
      "display_name": "Python 3"
    }
  },
  "cells": [
    {
      "cell_type": "markdown",
      "metadata": {
        "id": "view-in-github",
        "colab_type": "text"
      },
      "source": [
        "<a href=\"https://colab.research.google.com/github/shreyasmalewar/linearalgebra-colab/blob/master/Matrix_Multiplication.ipynb\" target=\"_parent\"><img src=\"https://colab.research.google.com/assets/colab-badge.svg\" alt=\"Open In Colab\"/></a>"
      ]
    },
    {
      "cell_type": "markdown",
      "metadata": {
        "colab_type": "text",
        "id": "QlX13zx3_Eoi"
      },
      "source": [
        "#PRACTICAL 7:\n",
        "Write a program to implement :\n",
        "1. Matrix-Matrix Multiplication\n",
        "2. Matrix-Vector Multiplication\n",
        "3. Matrix-Scalar Multiplication"
      ]
    },
    {
      "cell_type": "markdown",
      "metadata": {
        "id": "9q3FTy74_trh",
        "colab_type": "text"
      },
      "source": [
        "#Matrix-Matrix Multiplication\n",
        "Matrix multiplication, also called the matrix dot product is more complicated than the previous\n",
        "operations and involves a rule as not all matrices can be multiplied together.\n",
        "C = A · B (9.15)\n",
        "or\n",
        "C = AB (9.16)\n",
        "The rule for matrix multiplication is as follows:\n",
        " The number of columns (n) in the first matrix (A) must equal the number of rows (m) in\n",
        "the second matrix (B).\n",
        "For example, matrix A has the dimensions m rows and n columns and matrix B has the\n",
        "dimensions n and k. The n columns in A and n rows in B are equal. The result is a new matrix\n",
        "with m rows and k columns.\n",
        "C(m, k) = A(m, n) · B(n, k) (9.17)\n",
        "This rule applies for a chain of matrix multiplications where the number of columns in one\n",
        "matrix in the chain must match the number of rows in the following matrix in the chain.\n",
        "One of the most important operations involving matrices is multiplication of two\n",
        "matrices. The matrix product of matrices A and B is a third matrix C. In order for\n",
        "this product to be defined, A must have the same number of columns as B has rows.\n",
        "If A is of shape m × n and B is of shape n × p, then C is of shape m × p.\n"
      ]
    },
    {
      "cell_type": "code",
      "metadata": {
        "id": "4e76S0je_i-k",
        "colab_type": "code",
        "outputId": "cbafcec2-c0e6-419d-be21-92cec948a12c",
        "colab": {
          "base_uri": "https://localhost:8080/",
          "height": 204
        }
      },
      "source": [
        "# matrix dot product\n",
        "from numpy import array\n",
        "# define first matrix\n",
        "A = array([\n",
        "[1, 2],\n",
        "[3, 4],\n",
        "[5, 6]])\n",
        "print(A)\n",
        "# define second matrix\n",
        "B = array([\n",
        "[1, 2],\n",
        "[3, 4]])\n",
        "print(B)\n",
        "# multiply matrices\n",
        "C = A.dot(B)\n",
        "print(C)\n",
        "# multiply matrices with @ operator\n",
        "D = A @ B\n",
        "print(D)"
      ],
      "execution_count": 0,
      "outputs": [
        {
          "output_type": "stream",
          "text": [
            "[[1 2]\n",
            " [3 4]\n",
            " [5 6]]\n",
            "[[1 2]\n",
            " [3 4]]\n",
            "[[ 7 10]\n",
            " [15 22]\n",
            " [23 34]]\n",
            "[[ 7 10]\n",
            " [15 22]\n",
            " [23 34]]\n"
          ],
          "name": "stdout"
        }
      ]
    },
    {
      "cell_type": "markdown",
      "metadata": {
        "id": "_ltz5GzQ_4EU",
        "colab_type": "text"
      },
      "source": [
        "#Matrix-Vector Multiplication\n",
        "A matrix and a vector can be multiplied together as long as the rule of matrix multiplication\n",
        "is observed. Specifically, that the number of columns in the matrix must equal the number of\n",
        "items in the vector. As with matrix multiplication, the operation can be written using the dot\n",
        "notation. Because the vector only has one column, the result is always a vector.\n",
        "c = A · v (9.22)\n",
        "Or without the dot in a compact form.\n",
        "c = Av (9.23)\n",
        "The result is a vector with the same number of rows as the parent matrix.\n",
        "A =\n",
        "\n",
        "\n",
        "a1,1 a1,2\n",
        "a2,1 a2,2\n",
        "a3,1 a3,2\n",
        "\n",
        " (9.24)\n",
        "v =\n",
        "\u0012\n",
        "v1\n",
        "v2\n",
        "\u0013\n",
        "(9.25)\n",
        "c =\n",
        "\n",
        "\n",
        "a1,1 × v1 + a1,2 × v2\n",
        "a2,1 × v1 + a2,2 × v2\n",
        "a3,1 × v1 + a3,2 × v2\n",
        "\n",
        " (9.26)\n",
        "9.7. Matrix-Scalar Multiplicat"
      ]
    },
    {
      "cell_type": "code",
      "metadata": {
        "id": "d_KJqN_6_6S6",
        "colab_type": "code",
        "outputId": "1033348d-6f15-4ba9-93e6-53969f823221",
        "colab": {
          "base_uri": "https://localhost:8080/",
          "height": 102
        }
      },
      "source": [
        "# matrix-vector multiplication\n",
        "from numpy import array\n",
        "# define matrix\n",
        "A = array([\n",
        "[1, 2],\n",
        "[3, 4],\n",
        "[5, 6]])\n",
        "print(A)\n",
        "# define vector\n",
        "B = array([0.5, 0.5])\n",
        "print(B)\n",
        "# multiply\n",
        "C = A.dot(B)\n",
        "print(C)\n"
      ],
      "execution_count": 0,
      "outputs": [
        {
          "output_type": "stream",
          "text": [
            "[[1 2]\n",
            " [3 4]\n",
            " [5 6]]\n",
            "[0.5 0.5]\n",
            "[1.5 3.5 5.5]\n"
          ],
          "name": "stdout"
        }
      ]
    },
    {
      "cell_type": "markdown",
      "metadata": {
        "id": "IY1qz2k-__CZ",
        "colab_type": "text"
      },
      "source": [
        "#Matrix-Scalar Multiplication\n",
        "A matrix can be multiplied by a scalar. This can be represented using the dot notation between\n",
        "the matrix and the scalar.\n",
        "C = A · b (9.29)\n",
        "9.7. Matrix-Scalar Multiplication 68\n",
        "Or without the dot notation.\n",
        "C = Ab (9.30)\n",
        "The result is a matrix with the same size as the parent matrix where each element of the\n",
        "matrix is multiplied by the scalar value.\n",
        "A =\n",
        "\n",
        "\n",
        "a1,1 a1,2\n",
        "a2,1 a2,2\n",
        "a3,1 a3,2\n",
        "\n",
        " (9.31)\n",
        "C =\n",
        "\n",
        "\n",
        "a1,1 × b + a1,2 × b\n",
        "a2,1 × b + a2,2 × b\n",
        "a3,1 × b + a3,2 × b\n",
        "\n",
        " (9.32)\n",
        "or\n",
        "C =\n",
        "\n",
        "\n",
        "a1,1b + a1,2b\n",
        "a2,1b + a2,2b\n",
        "a3,1b + a3,2b\n",
        "\n",
        " (9.33)\n",
        "We can also represent this with array notation.\n",
        "C[0, 0] = A[0, 0] × b\n",
        "C[1, 0] = A[1, 0] × b\n",
        "C[2, 0] = A[2, 0] × b\n",
        "C[0, 1] = A[0, 1] × b\n",
        "C[1, 1] = A[1, 1] × b\n",
        "C[2, 1] = A[2, 1] × b\n",
        "(9.34)\n",
        "This can be implemented directly in NumPy with the multiplication operator"
      ]
    },
    {
      "cell_type": "code",
      "metadata": {
        "id": "NK5-pLYTAGSN",
        "colab_type": "code",
        "outputId": "85529ba7-9a86-43de-a349-d74f181cab44",
        "colab": {
          "base_uri": "https://localhost:8080/",
          "height": 136
        }
      },
      "source": [
        "# matrix-scalar multiplication\n",
        "from numpy import array\n",
        "# define matrix\n",
        "A = array([[1, 2], [3, 4], [5, 6]])\n",
        "print(A)\n",
        "# define scalar\n",
        "b = 0.5\n",
        "print(b)\n",
        "# multiply\n",
        "C = A * b\n",
        "print(C)\n"
      ],
      "execution_count": 0,
      "outputs": [
        {
          "output_type": "stream",
          "text": [
            "[[1 2]\n",
            " [3 4]\n",
            " [5 6]]\n",
            "0.5\n",
            "[[0.5 1. ]\n",
            " [1.5 2. ]\n",
            " [2.5 3. ]]\n"
          ],
          "name": "stdout"
        }
      ]
    },
    {
      "cell_type": "markdown",
      "metadata": {
        "id": "TKUxIpvGo9Mg",
        "colab_type": "text"
      },
      "source": [
        "1. Eigendecomposition of a Matrix\n",
        "2. Eigenvectors and Eigenvalues\n",
        "3. Calculation of Eigendecomposition\n",
        "4. Confirm an Eigenvector and Eigenvalue\n",
        "5. Reconstruct Matrix"
      ]
    },
    {
      "cell_type": "markdown",
      "metadata": {
        "id": "A99ONYIppKY7",
        "colab_type": "text"
      },
      "source": [
        "Eigendecomposition of a Matrix\n",
        "Eigendecomposition of a matrix is a type of decomposition that involves decomposing a square\n",
        "matrix into a set of eigenvectors and eigenvalues.\n",
        "One of the most widely used kinds of matrix decomposition is called eigendecomposition, in which we decompose a matrix into a set of eigenvectors and eigenvalues.\n",
        "\n",
        "A vector is an eigenvector of a matrix if it satisfies the following equation.\n",
        "A · v = λ · v \n",
        "This is called the eigenvalue equation, where A is the parent square matrix that we are\n",
        "decomposing, v is the eigenvector of the matrix, and λ is the lowercase Greek letter lambda and\n",
        "represents the eigenvalue scalar. Or without the dot notation.\n",
        "Av = λv "
      ]
    },
    {
      "cell_type": "markdown",
      "metadata": {
        "id": "W52-lCrVpZjj",
        "colab_type": "text"
      },
      "source": [
        "#Eigenvectors and Eigenvalues\n",
        "Eigenvectors are unit vectors, which means that their length or magnitude is equal to 1.0. They\n",
        "are often referred as right vectors, which simply means a column vector (as opposed to a row\n",
        "vector or a left vector). A right-vector is a vector as we understand them. Eigenvalues are\n",
        "coefficients applied to eigenvectors that give the vectors their length or magnitude. For example,\n",
        "a negative eigenvalue may reverse the direction of the eigenvector as part of scaling it. A matrix\n",
        "that has only positive eigenvalues is referred to as a positive definite matrix, whereas if the\n",
        "eigenvalues are all negative, it is referred to as a negative definite matrix.\n",
        "Decomposing a matrix in terms of its eigenvalues and its eigenvectors gives valuable\n",
        "insights into the properties of the matrix. Certain matrix calculations, like computing\n",
        "the power of the matrix, become much easier when we use the eigendecomposition\n",
        "of the matrix"
      ]
    },
    {
      "cell_type": "markdown",
      "metadata": {
        "id": "-K5mzB9KpgGe",
        "colab_type": "text"
      },
      "source": [
        "#Calculation of Eigendecomposition\n",
        "An eigendecomposition is calculated on a square matrix using an efficient iterative algorithm, of\n",
        "which we will not go into the details. Often an eigenvalue is found first, then an eigenvector is\n",
        "found to solve the equation as a set of coefficients. The eigendecomposition can be calculated in\n",
        "NumPy using the eig() function. The example below first defines a 3 × 3 square matrix. The\n",
        "eigendecomposition is calculated on the matrix returning the eigenvalues and eigenvectors."
      ]
    },
    {
      "cell_type": "code",
      "metadata": {
        "id": "fxFmGN-cpVJA",
        "colab_type": "code",
        "outputId": "e3a6d0bf-152e-4d93-a614-6fd9b3c4aa52",
        "colab": {
          "base_uri": "https://localhost:8080/",
          "height": 136
        }
      },
      "source": [
        "# eigendecomposition\n",
        "from numpy import array\n",
        "from numpy.linalg import eig\n",
        "# define matrix\n",
        "A = array([\n",
        "[1, 2, 3],\n",
        "[4, 5, 6],\n",
        "[7, 8, 9]])\n",
        "print(A)\n",
        "# factorize\n",
        "values, vectors = eig(A)\n",
        "print(values)\n",
        "print(vectors)"
      ],
      "execution_count": 0,
      "outputs": [
        {
          "output_type": "stream",
          "text": [
            "[[1 2 3]\n",
            " [4 5 6]\n",
            " [7 8 9]]\n",
            "[ 1.61168440e+01 -1.11684397e+00 -1.30367773e-15]\n",
            "[[-0.23197069 -0.78583024  0.40824829]\n",
            " [-0.52532209 -0.08675134 -0.81649658]\n",
            " [-0.8186735   0.61232756  0.40824829]]\n"
          ],
          "name": "stdout"
        }
      ]
    },
    {
      "cell_type": "markdown",
      "metadata": {
        "id": "5nzPvYqrpyu3",
        "colab_type": "text"
      },
      "source": [
        "#Confirm an Eigenvector and Eigenvalue\n",
        "We can confirm that a vector is indeed an eigenvector of a matrix. We do this by multiplying\n",
        "the candidate eigenvector by the value vector and comparing the result with the eigenvalue.\n",
        "First, we will define a matrix, then calculate the eigenvalues and eigenvectors. We will then test\n",
        "whether the first vector and value are in fact an eigenvalue and eigenvector for the matrix. We\n",
        "know they are, but it is a good exercise.\n",
        "The eigenvectors are returned as a matrix with the same dimensions as the parent matrix,\n",
        "where each column is an eigenvector, e.g. the first eigenvector is vectors[:, 0]. Eigenvalues\n",
        "are returned as a list, where value indices in the returned array are paired with eigenvectors\n",
        "by column index, e.g. the first eigenvalue at values[0] is paired with the first eigenvector at\n",
        "vectors[:, 0].\n"
      ]
    },
    {
      "cell_type": "code",
      "metadata": {
        "id": "NFxbI8uQp_aS",
        "colab_type": "code",
        "outputId": "8af8ef24-e12c-4b58-fd33-36448ab712f0",
        "colab": {
          "base_uri": "https://localhost:8080/",
          "height": 51
        }
      },
      "source": [
        "# confirm eigenvector\n",
        "from numpy import array\n",
        "from numpy.linalg import eig\n",
        "# define matrix\n",
        "A = array([\n",
        "[1, 2, 3],\n",
        "[4, 5, 6],\n",
        "[7, 8, 9]])\n",
        "# factorize\n",
        "values, vectors = eig(A)\n",
        "# confirm first eigenvector\n",
        "B = A.dot(vectors[:, 0])\n",
        "print(B)\n",
        "C = vectors[:, 0] * values[0]\n",
        "print(C)\n"
      ],
      "execution_count": 0,
      "outputs": [
        {
          "output_type": "stream",
          "text": [
            "[ -3.73863537  -8.46653421 -13.19443305]\n",
            "[ -3.73863537  -8.46653421 -13.19443305]\n"
          ],
          "name": "stdout"
        }
      ]
    },
    {
      "cell_type": "markdown",
      "metadata": {
        "id": "YvPCbJwmqFlq",
        "colab_type": "text"
      },
      "source": [
        "#Reconstruct Matrix\n",
        "We can reverse the process and reconstruct the original matrix given only the eigenvectors and\n",
        "eigenvalues. First, the list of eigenvectors must be taken together as a matrix, where each vector\n",
        "becomes a row. The eigenvalues need to be arranged into a diagonal matrix. The NumPy\n",
        "diag() function can be used for this. Next, we need to calculate the inverse of the eigenvector\n",
        "matrix, which we can achieve with the inv() NumPy function. Finally, these elements need to\n",
        "be multiplied together with the dot() function.\n"
      ]
    },
    {
      "cell_type": "code",
      "metadata": {
        "id": "p1QDFuUirNC9",
        "colab_type": "code",
        "outputId": "8a36fe82-d53b-4151-f644-841894757b6a",
        "colab": {
          "base_uri": "https://localhost:8080/",
          "height": 119
        }
      },
      "source": [
        "# reconstruct matrix\n",
        "from numpy import diag\n",
        "from numpy.linalg import inv\n",
        "from numpy import array\n",
        "from numpy.linalg import eig\n",
        "# define matrix\n",
        "A = array([\n",
        "[1, 2, 3],\n",
        "[4, 5, 6],\n",
        "[7, 8, 9]])\n",
        "print(A)\n",
        "# factorize\n",
        "values, vectors = eig(A)\n",
        "# create matrix from eigenvectors\n",
        "Q = vectors\n",
        "# create inverse of eigenvectors matrix\n",
        "R = inv(Q)\n",
        "# create diagonal matrix from eigenvalues\n",
        "L = diag(values)\n",
        "# reconstruct the original matrix\n",
        "B = Q.dot(L).dot(R)\n",
        "print(B)"
      ],
      "execution_count": 0,
      "outputs": [
        {
          "output_type": "stream",
          "text": [
            "[[1 2 3]\n",
            " [4 5 6]\n",
            " [7 8 9]]\n",
            "[[1. 2. 3.]\n",
            " [4. 5. 6.]\n",
            " [7. 8. 9.]]\n"
          ],
          "name": "stdout"
        }
      ]
    },
    {
      "cell_type": "markdown",
      "metadata": {
        "id": "ogs6CQu4rWIS",
        "colab_type": "text"
      },
      "source": [
        "#What is the Singular-Value Decomposition\n",
        "2. Calculate Singular-Value Decomposition\n",
        "3. Reconstruct Matrix\n",
        "4. Pseudoinverse\n",
        "5. Dimensionality Reduction"
      ]
    },
    {
      "cell_type": "markdown",
      "metadata": {
        "id": "nAdsRwL8riap",
        "colab_type": "text"
      },
      "source": [
        "The Singular-Value Decomposition, or SVD for short, is a matrix decomposition method for\n",
        "reducing a matrix to its constituent parts in order to make certain subsequent matrix calculations\n",
        "simpler. For the case of simplicity we will focus on the SVD for real-valued matrices and ignore\n",
        "the case for complex numbers.\n",
        "A = U · Σ · V\n",
        "T\n",
        "(16.1)\n",
        "Where A is the real n × m matrix that we wish to decompose, U is an m × m matrix, Σ\n",
        "represented by the uppercase Greek letter sigma) is an m × n diagonal matrix, and V\n",
        "T\n",
        "is the V\n",
        "transpose of an n × n matrix where T is a superscript.\n",
        "The Singular Value Decomposition is a highlight of linear algebra.\n",
        "— Page 371, Introduction to Linear Algebra, 2016.\n",
        "The diagonal values in the Σ matrix are known as the singular values of the original matrix\n",
        "A. The columns of the U matrix are called the left-singular vectors of A, and the columns\n",
        "of V are called the right-singular vectors of A. The SVD is calculated via iterative numerical\n",
        "methods. We will not go into the details of these methods. Every rectangular matrix has a\n",
        "singular value decomposition, although the resulting matrices may contain complex numbers\n",
        "and the limitations of floating point arithmetic may cause some matrices to fail to decompose\n",
        "neatly."
      ]
    },
    {
      "cell_type": "markdown",
      "metadata": {
        "id": "t7IOlS4nroNH",
        "colab_type": "text"
      },
      "source": [
        "#Calculate Singular-Value Decomposition\n",
        "The SVD can be calculated by calling the svd() function. The function takes a matrix and\n",
        "returns the U, Σ and V\n",
        "T\n",
        "elements. The Σ diagonal matrix is returned as a vector of singular\n",
        "values. The V matrix is returned in a transposed form, e.g. V\n",
        "T\n",
        ". The example below defines a\n",
        "3 × 2 matrix and calculates the singular-value decomposition."
      ]
    },
    {
      "cell_type": "code",
      "metadata": {
        "id": "-4MGjzqXrzZj",
        "colab_type": "code",
        "outputId": "cfce94fa-2ca2-4e8a-e460-a59bcb48b3ee",
        "colab": {
          "base_uri": "https://localhost:8080/",
          "height": 168
        }
      },
      "source": [
        "# singular-value decomposition\n",
        "from numpy import array\n",
        "from scipy.linalg import svd\n",
        "# define a matrix\n",
        "A = array([\n",
        "[1, 2],\n",
        "[3, 4],\n",
        "[5, 6]])\n",
        "print(A)\n",
        "# factorize\n",
        "U, s, V = svd(A)\n",
        "print(U)\n",
        "print(s)\n",
        "print(V)"
      ],
      "execution_count": 0,
      "outputs": [
        {
          "output_type": "stream",
          "text": [
            "[[1 2]\n",
            " [3 4]\n",
            " [5 6]]\n",
            "[[-0.2298477   0.88346102  0.40824829]\n",
            " [-0.52474482  0.24078249 -0.81649658]\n",
            " [-0.81964194 -0.40189603  0.40824829]]\n",
            "[9.52551809 0.51430058]\n",
            "[[-0.61962948 -0.78489445]\n",
            " [-0.78489445  0.61962948]]\n"
          ],
          "name": "stdout"
        }
      ]
    },
    {
      "cell_type": "code",
      "metadata": {
        "id": "a9FARqNvsVQM",
        "colab_type": "code",
        "outputId": "5e2db338-9c53-4347-c5ee-c49b627e0058",
        "colab": {
          "base_uri": "https://localhost:8080/",
          "height": 269
        }
      },
      "source": [
        "# LU decomposition\n",
        "from numpy import array\n",
        "from scipy.linalg import lu\n",
        "# define a square matrix\n",
        "A = array([\n",
        "[1, 2, 3],\n",
        "[4, 5, 6],\n",
        "[7, 8, 9]])\n",
        "print(A)\n",
        "# factorize\n",
        "P, L, U = lu(A)\n",
        "print(P)\n",
        "print(L)\n",
        "print(U)\n",
        "# reconstruct\n",
        "B = P.dot(L).dot(U)\n",
        "print(B)\n"
      ],
      "execution_count": 0,
      "outputs": [
        {
          "output_type": "stream",
          "text": [
            "[[1 2 3]\n",
            " [4 5 6]\n",
            " [7 8 9]]\n",
            "[[0. 1. 0.]\n",
            " [0. 0. 1.]\n",
            " [1. 0. 0.]]\n",
            "[[1.         0.         0.        ]\n",
            " [0.14285714 1.         0.        ]\n",
            " [0.57142857 0.5        1.        ]]\n",
            "[[7.         8.         9.        ]\n",
            " [0.         0.85714286 1.71428571]\n",
            " [0.         0.         0.        ]]\n",
            "[[1. 2. 3.]\n",
            " [4. 5. 6.]\n",
            " [7. 8. 9.]]\n"
          ],
          "name": "stdout"
        }
      ]
    }
  ]
}